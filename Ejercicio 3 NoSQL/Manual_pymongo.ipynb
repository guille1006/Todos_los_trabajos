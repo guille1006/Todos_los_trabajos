{
 "cells": [
  {
   "cell_type": "markdown",
   "metadata": {},
   "source": [
    "<h1 style=\"text-align: center;\"> Pymongo </h1>\n",
    "<h1 style=\"text-align: right; font-size: 24px; margin-right: 10px;\"></h1>\n"
   ]
  },
  {
   "cell_type": "markdown",
   "metadata": {},
   "source": [
    "# Instalación\n",
    "\n",
    "$ pip install pymongo"
   ]
  },
  {
   "cell_type": "markdown",
   "metadata": {},
   "source": [
    "# Hacer una conexión con una base de datos.\n",
    "Para conectarnos tan solo hay que utilizar la clase implementada <span style=\"color:lime\">MongoClient()</span> en la libreria de pymongo. Es importante recordar que lo mas óptimo es tener abierto solo un cliente de mongo a la vez, ya que consume muchos recursos esta función."
   ]
  },
  {
   "cell_type": "code",
   "execution_count": 1,
   "metadata": {},
   "outputs": [
    {
     "ename": "NameError",
     "evalue": "name 'MongoClient' is not defined",
     "output_type": "error",
     "traceback": [
      "\u001b[1;31m---------------------------------------------------------------------------\u001b[0m",
      "\u001b[1;31mNameError\u001b[0m                                 Traceback (most recent call last)",
      "Cell \u001b[1;32mIn[1], line 5\u001b[0m\n\u001b[0;32m      1\u001b[0m \u001b[38;5;28;01mimport\u001b[39;00m \u001b[38;5;21;01mpymongo\u001b[39;00m\n\u001b[0;32m      2\u001b[0m \u001b[38;5;66;03m# from pymongo import MongoClient\u001b[39;00m\n\u001b[0;32m      3\u001b[0m \n\u001b[0;32m      4\u001b[0m \u001b[38;5;66;03m# El siguinente codigo nos conectará a al puerto y host predeterminado\u001b[39;00m\n\u001b[1;32m----> 5\u001b[0m client \u001b[38;5;241m=\u001b[39m \u001b[43mMongoClient\u001b[49m()\n\u001b[0;32m      6\u001b[0m \u001b[38;5;66;03m# Si queremos especificar un host o un puerto ponemos\u001b[39;00m\n\u001b[0;32m      7\u001b[0m \u001b[38;5;66;03m#client = MongoClient(\"localhost\", 27017)\u001b[39;00m\n\u001b[0;32m      8\u001b[0m \u001b[38;5;66;03m# Si queremos utlizar un formato URI:\u001b[39;00m\n\u001b[0;32m      9\u001b[0m \u001b[38;5;66;03m#client = MongoClient(\"mongodb://localhost:27017/\")\u001b[39;00m\n\u001b[0;32m     11\u001b[0m \u001b[38;5;28mprint\u001b[39m(client)\n",
      "\u001b[1;31mNameError\u001b[0m: name 'MongoClient' is not defined"
     ]
    }
   ],
   "source": [
    "import pymongo\n",
    "# from pymongo import MongoClient\n",
    "\n",
    "# El siguinente codigo nos conectará a al puerto y host predeterminado\n",
    "client = MongoClient()\n",
    "# Si queremos especificar un host o un puerto ponemos\n",
    "#client = MongoClient(\"localhost\", 27017)\n",
    "# Si queremos utlizar un formato URI:\n",
    "#client = MongoClient(\"mongodb://localhost:27017/\")\n",
    "\n",
    "print(client)"
   ]
  },
  {
   "cell_type": "markdown",
   "metadata": {},
   "source": [
    "## Usar una database.\n",
    "Para acceder a las bases de datos del cliente de mongo, tan solo tenemos que llamar a la database como metodo del objeto Mongoclient. \n",
    "En otras palabras: accedes a las bases de datos utilizando un estilo de acceso por atributos en las instancias de MongoClient."
   ]
  },
  {
   "cell_type": "code",
   "execution_count": null,
   "metadata": {},
   "outputs": [],
   "source": [
    "db = client.name_database \n",
    "# En el caso de que el nombre de tu base de datos tiene un estilo que no\n",
    "# permite el acceso por atributos, se puede usará el acceso por diccionario\n",
    "db = client[\"name-database\"]"
   ]
  },
  {
   "cell_type": "markdown",
   "metadata": {},
   "source": [
    "## Usar una colección.\n",
    "Las colecciones en Mongo son un grupo de documentos almacenados juntos. Se puede pensar que son el equivalente a una tabla en una base de datos relacional. Para acceder a ellas, se accede de la misma manera que si fueran una database."
   ]
  },
  {
   "cell_type": "code",
   "execution_count": null,
   "metadata": {},
   "outputs": [],
   "source": [
    "collection = db.name_collection\n",
    "collection = db[\"name-collection\"]"
   ]
  },
  {
   "cell_type": "markdown",
   "metadata": {},
   "source": [
    "Un aspecto a tener en cuenta de las colecciones y las bases de datos en Mongo es que estas se crean de manera \"lazy\". Esto significa que nada de esto se crea hasta que algún documento se guarde en estos objetos."
   ]
  },
  {
   "cell_type": "markdown",
   "metadata": {},
   "source": [
    "## Documentos \n",
    "En MongoDB los datos se representa en (y almacena) en JSON. En pymongo, este tipo de documento es representado mediante diccionarios.\n",
    "\n",
    "### Insertar un documento. \n",
    "Para insertar un documento a una collección usamos los metodos siguientes:\n",
    "\n",
    "* insert_one():\n",
    "\n",
    "Cuando un documento es añadido, se genera una special key \"_id\" que se guarda junto con este documento. El valor de esta llave es único en toda la colección. Después de haber añadido un documento a una colección, esta se crea en el servidor. Podemos verificarlo con el comando \n",
    "\n",
    "* db.list_collection_names()\n",
    "\n",
    "También podemos insertar varisos documentos a una collección usando el siguiente método. Esta función insertará la lista del primer parametro a la colección y retornará el objeto entero.\n",
    " \n",
    "```python\n",
    "new_posts = [\n",
    "    {\n",
    "        \"author\": \"Mike\",\n",
    "        \"text\": \"Another post!\",\n",
    "        \"tags\": [\"bulk\", \"insert\"],\n",
    "        \"date\": datetime.datetime(2009, 11, 12, 11, 14),\n",
    "    },\n",
    "    {\n",
    "        \"author\": \"Eliot\",\n",
    "        \"title\": \"MongoDB is fun\",\n",
    "        \"text\": \"and pretty easy too!\",\n",
    "        \"date\": datetime.datetime(2009, 11, 10, 10, 45),\n",
    "    },\n",
    "]\n",
    "result = posts.insert_many(new_posts)\n",
    "```\n",
    "\n"
   ]
  },
  {
   "cell_type": "markdown",
   "metadata": {},
   "source": [
    "## Find\n",
    "La forma más básica de una consulta(query) es usando la siguiente función \n",
    "* find_one(): Este método devuelve un documento que concuerda con la consulta(o None si no hay coincidencia). Este método es útil cuando sabes que solo hay un resultado. En caso de que exista mas de un documento que coincida con la query, devolverá el primer resultado. \n",
    "\n",
    "\n"
   ]
  },
  {
   "cell_type": "markdown",
   "metadata": {},
   "source": [
    "### Consultar mas de un documento\n",
    "Para conseguir mas de un documento como resultado de una consulta usaremos el método .find(). Este método nos devuelve un **Cursor** que nos permitirá iterar sobre todos los elementos que coincidan con la query.\n",
    "\n",
    "```python \n",
    "for post in posts.find():\n",
    "    print(post)\n",
    "```\n"
   ]
  },
  {
   "cell_type": "markdown",
   "metadata": {},
   "source": [
    "## Contadores\n",
    "En caso de querer saber cuantos documentos concuerdan con la query, podemos usar la operación *.count_documents* y dará como resultado el número de documentos que concuerden."
   ]
  },
  {
   "cell_type": "markdown",
   "metadata": {},
   "source": [
    "## Indexing\n",
    "Añadir indíces puede acelerar determinadas consultas y puede añadir funcionalidad para las consultas y para almacenar documentos. \n"
   ]
  },
  {
   "cell_type": "code",
   "execution_count": null,
   "metadata": {},
   "outputs": [],
   "source": []
  },
  {
   "cell_type": "markdown",
   "metadata": {},
   "source": [
    "# Async Tutorial\n",
    "Cuando es asyncrona se refiere a un conjunto de métodos que permiten interactuar con la base de datos de manera no bloqueante, es decir, las operaciones no detinen la ejecución del programa mientras esperan una respuesta del servidor. Esto mejora la eficencia en las aplicaciones donde las consultas a la base de datos pueden ser lentas o necesitan manejar múltiples tareas simultáneamente. \n",
    "* No bloquenate: las llamadas a la API regresan inmediatamente con un objeto o promesa que se completará en el futuro.\n",
    "* Uso eficiente de rrecursos: Permite que el hilo principal continúe ejecutando otras tareas mientras espera las respuestas de la base de datos. \n",
    "\n"
   ]
  },
  {
   "cell_type": "code",
   "execution_count": null,
   "metadata": {},
   "outputs": [],
   "source": [
    "from pymongo import AsyncMongoclient\n",
    "\n",
    "client = AsyncMongoclient()\n",
    "await client.drop_database(\"name-database\")"
   ]
  },
  {
   "cell_type": "markdown",
   "metadata": {},
   "source": [
    "## Conectarse a un cliente asyncrono.\n",
    "Se hace de la misma manera que en un cliente sincróno, con la única diferencia de que el objeto de trabajo es el **AsyncMongoClient()**"
   ]
  },
  {
   "cell_type": "markdown",
   "metadata": {},
   "source": []
  }
 ],
 "metadata": {
  "kernelspec": {
   "display_name": "Python 3",
   "language": "python",
   "name": "python3"
  },
  "language_info": {
   "codemirror_mode": {
    "name": "ipython",
    "version": 3
   },
   "file_extension": ".py",
   "mimetype": "text/x-python",
   "name": "python",
   "nbconvert_exporter": "python",
   "pygments_lexer": "ipython3",
   "version": "3.12.2"
  }
 },
 "nbformat": 4,
 "nbformat_minor": 2
}
