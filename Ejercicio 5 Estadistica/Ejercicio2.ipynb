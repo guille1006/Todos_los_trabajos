{
 "cells": [
  {
   "cell_type": "markdown",
   "metadata": {},
   "source": [
    "<h1 style=\"text-align: center;\"> Estadística </h1>\n",
    "<h1 style=\"text-align: right; font-size: 24px; margin-right: 10px;\"> </h1>"
   ]
  },
  {
   "cell_type": "code",
   "execution_count": 2,
   "metadata": {},
   "outputs": [],
   "source": [
    "import pandas as pd\n",
    "import numpy as np\n",
    "import math\n",
    "from collections import Counter\n",
    "from scipy.stats import gmean # Para sacar la media geometrica\n",
    "from scipy.stats import describe # Para sacar algunos datos descriptivos\n",
    "from scipy.stats import skew # Para sacar la asimetria \n",
    "from scipy.stats import kurtosis # Para sacar la curtosis\n",
    "from scipy.stats import kstest # Para sacar la prueba de Kolmogorov-Smirnov\n",
    "#from scipy.stats import norm # Para tener el objeto de una distribucion normal\n",
    "import scipy.stats\n",
    "import sklearn.preprocessing\n",
    "import sklearn.utils\n",
    "import seaborn as sns\n",
    "import matplotlib.pyplot as plt\n",
    "\n",
    "from statsmodels.stats.diagnostic import lilliefors"
   ]
  },
  {
   "cell_type": "markdown",
   "metadata": {},
   "source": [
    "## Ejercicio 1. Cráneos egipcios"
   ]
  },
  {
   "cell_type": "code",
   "execution_count": 3,
   "metadata": {},
   "outputs": [],
   "source": [
    "df = pd.read_excel(\"datosejercicioevaluacionanchuras.xlsx\")\n",
    "\n",
    "tempr = df[df[\"Época histórica\"]==1]\n",
    "tempr = tempr[\"Anchura del cráneo\"]\n",
    "tempr_arr = np.array(tempr)\n",
    "\n",
    "tard = df[df[\"Época histórica\"]==2]\n",
    "tard = tard[\"Anchura del cráneo\"]\n",
    "tard_arr = np.array(tard)\n"
   ]
  },
  {
   "cell_type": "code",
   "execution_count": 4,
   "metadata": {},
   "outputs": [
    {
     "data": {
      "text/plain": [
       "(60, 2)"
      ]
     },
     "execution_count": 4,
     "metadata": {},
     "output_type": "execute_result"
    }
   ],
   "source": [
    "registros, columnas_df = df.shape\n",
    "registros, columnas_df"
   ]
  },
  {
   "cell_type": "markdown",
   "metadata": {},
   "source": [
    "### a.1. Obtener con Python las diferentes medidas de centralización y dispersión, asimetría y curtosis estudiadas. \n",
    "\n",
    "En los siguientes ejercicios, la mayoría de lo que se pide está impementado en python como funciones o métodos en alguna librería, es por ello que además de usar estas funciones he decidido realizar las cuentas a manos. Esto es para que yo aprenda mejor estos conceptos y es únicamente informació rebundante.\n",
    "\n",
    "Las medidas estudiadas son:\n",
    "* Medidas de posisción central\n",
    "    * Media\n",
    "        * Media aritmetica\n",
    "        * Media geometrica\n",
    "    * Mediana \n",
    "    * Moda\n",
    "* Medidas de posición no centrales\n",
    "    * Cuartiles\n",
    "    * Deciles \n",
    "    * Percentiles\n",
    "* Medias de dispersión \n",
    "    * Rango\n",
    "    * Varianza\n",
    "    * Desviación típica\n",
    "    * Coeficiente de variación de Pearson\n",
    "* Medidas de forma \n",
    "    * Asimetría \n",
    "    * Curtosis\n"
   ]
  },
  {
   "cell_type": "markdown",
   "metadata": {},
   "source": [
    "Empezaré usando las funciones integradas en las diferentes librerias de python."
   ]
  },
  {
   "cell_type": "code",
   "execution_count": 5,
   "metadata": {},
   "outputs": [
    {
     "name": "stdout",
     "output_type": "stream",
     "text": [
      "-0.18623697303495312 1.304372302495782\n"
     ]
    }
   ],
   "source": [
    "# Medidas de posición central\n",
    "## Media aritmetica\n",
    "media_tempr = tempr.mean()\n",
    "media_tard = tard.mean()\n",
    "\n",
    "## Media geometrica \n",
    "mgeo_tempr = gmean(tempr)\n",
    "mgeo_tard = gmean(tard)\n",
    "\n",
    "## Mediana\n",
    "mediana_tempr = tempr.median()\n",
    "mediana_tard = tard.median()\n",
    "\n",
    "## Moda\n",
    "moda_tempr = tempr.mode().iloc[0]\n",
    "moda_tard = tard.mode().iloc[0]\n",
    "\n",
    "# Medidas de posicion no central\n",
    "## Cuarrtiles\n",
    "cuartil_25_tempr = tempr.quantile(0.25)\n",
    "cuartil_25_tard = tard.quantile(0.25)\n",
    "cuartil_75_tempr = tempr.quantile(0.75)\n",
    "cuartil_75_tard = tard.quantile(0.75)\n",
    "\n",
    "## Deciles\n",
    "decil_10_tempr = tempr.quantile(0.1)\n",
    "decil_10_tard = tard.quantile(0.1)\n",
    "\n",
    "## Percentiles\n",
    "percentil_1_tempr = tempr.quantile(0.01)\n",
    "percentil_1_tard = tard.quantile(0.01)\n",
    "\n",
    "# Medidas de dispersion\n",
    "stats_tempr = describe(tempr)\n",
    "stats_tard = describe(tard)\n",
    "\n",
    "## Rango\n",
    "rango_tempr = stats_tempr.minmax[1] - stats_tempr.minmax[0]\n",
    "rango_tard = stats_tard.minmax[1] - stats_tard.minmax[0]\n",
    "\n",
    "## Varianza\n",
    "### Usando scipy\n",
    "var_tempr = stats_tempr.variance\n",
    "var_tard = stats_tard.variance\n",
    "\n",
    "### Usando pandas\n",
    "var_tempr_2 = tempr.var()\n",
    "var_tard_2 = tard.var()\n",
    "\n",
    "## Desviacion tipica\n",
    "desv_tempr = math.sqrt(var_tempr)\n",
    "desv_tard = math.sqrt(var_tard)\n",
    "\n",
    "## Coeficiente de variacion de Pearson\n",
    "CV_tempr = desv_tempr/media_tempr\n",
    "CV_tard = desv_tard/media_tard \n",
    "\n",
    "# Medidas de forma\n",
    "## Asimetria\n",
    "asim_tempr = stats_tempr.skewness\n",
    "asim_tard = stats_tard.skewness\n",
    "\n",
    "## Curtosis\n",
    "curtosis_tempr = stats_tempr.kurtosis\n",
    "curtosis_tard = stats_tard.kurtosis\n",
    "curtosis_tempr_2 = kurtosis(tempr)\n",
    "curtosis_tard_2 = kurtosis(tard)\n",
    "print(curtosis_tard_2, curtosis_tempr_2)"
   ]
  },
  {
   "cell_type": "code",
   "execution_count": 6,
   "metadata": {},
   "outputs": [
    {
     "data": {
      "text/html": [
       "<div>\n",
       "<style scoped>\n",
       "    .dataframe tbody tr th:only-of-type {\n",
       "        vertical-align: middle;\n",
       "    }\n",
       "\n",
       "    .dataframe tbody tr th {\n",
       "        vertical-align: top;\n",
       "    }\n",
       "\n",
       "    .dataframe thead th {\n",
       "        text-align: right;\n",
       "    }\n",
       "</style>\n",
       "<table border=\"1\" class=\"dataframe\">\n",
       "  <thead>\n",
       "    <tr style=\"text-align: right;\">\n",
       "      <th></th>\n",
       "      <th>Predinástico temprano</th>\n",
       "      <th>Predinástico tardío</th>\n",
       "    </tr>\n",
       "  </thead>\n",
       "  <tbody>\n",
       "    <tr>\n",
       "      <th>Media</th>\n",
       "      <td>131.533333</td>\n",
       "      <td>132.466667</td>\n",
       "    </tr>\n",
       "    <tr>\n",
       "      <th>Media geometrica</th>\n",
       "      <td>131.530873</td>\n",
       "      <td>132.462963</td>\n",
       "    </tr>\n",
       "    <tr>\n",
       "      <th>Mediana</th>\n",
       "      <td>131.500000</td>\n",
       "      <td>133.000000</td>\n",
       "    </tr>\n",
       "    <tr>\n",
       "      <th>Moda</th>\n",
       "      <td>131.000000</td>\n",
       "      <td>133.000000</td>\n",
       "    </tr>\n",
       "    <tr>\n",
       "      <th>Cuartil 25</th>\n",
       "      <td>131.000000</td>\n",
       "      <td>132.000000</td>\n",
       "    </tr>\n",
       "    <tr>\n",
       "      <th>Cuartil 75</th>\n",
       "      <td>132.000000</td>\n",
       "      <td>133.000000</td>\n",
       "    </tr>\n",
       "    <tr>\n",
       "      <th>Decil 10</th>\n",
       "      <td>131.000000</td>\n",
       "      <td>131.000000</td>\n",
       "    </tr>\n",
       "    <tr>\n",
       "      <th>Percentil 1</th>\n",
       "      <td>130.000000</td>\n",
       "      <td>131.000000</td>\n",
       "    </tr>\n",
       "    <tr>\n",
       "      <th>Rango</th>\n",
       "      <td>4.000000</td>\n",
       "      <td>4.000000</td>\n",
       "    </tr>\n",
       "    <tr>\n",
       "      <th>Varianza</th>\n",
       "      <td>0.671264</td>\n",
       "      <td>1.016092</td>\n",
       "    </tr>\n",
       "    <tr>\n",
       "      <th>Desviación típica</th>\n",
       "      <td>0.819307</td>\n",
       "      <td>1.008014</td>\n",
       "    </tr>\n",
       "    <tr>\n",
       "      <th>Coeficiente de variacion de Pearson</th>\n",
       "      <td>0.006229</td>\n",
       "      <td>0.007610</td>\n",
       "    </tr>\n",
       "    <tr>\n",
       "      <th>Coeficiente de asimetria de Fisher</th>\n",
       "      <td>0.656983</td>\n",
       "      <td>0.195106</td>\n",
       "    </tr>\n",
       "    <tr>\n",
       "      <th>Coeficiente Curtosis</th>\n",
       "      <td>1.304372</td>\n",
       "      <td>-0.186237</td>\n",
       "    </tr>\n",
       "  </tbody>\n",
       "</table>\n",
       "</div>"
      ],
      "text/plain": [
       "                                     Predinástico temprano  \\\n",
       "Media                                           131.533333   \n",
       "Media geometrica                                131.530873   \n",
       "Mediana                                         131.500000   \n",
       "Moda                                            131.000000   \n",
       "Cuartil 25                                      131.000000   \n",
       "Cuartil 75                                      132.000000   \n",
       "Decil 10                                        131.000000   \n",
       "Percentil 1                                     130.000000   \n",
       "Rango                                             4.000000   \n",
       "Varianza                                          0.671264   \n",
       "Desviación típica                                 0.819307   \n",
       "Coeficiente de variacion de Pearson               0.006229   \n",
       "Coeficiente de asimetria de Fisher                0.656983   \n",
       "Coeficiente Curtosis                              1.304372   \n",
       "\n",
       "                                     Predinástico tardío  \n",
       "Media                                         132.466667  \n",
       "Media geometrica                              132.462963  \n",
       "Mediana                                       133.000000  \n",
       "Moda                                          133.000000  \n",
       "Cuartil 25                                    132.000000  \n",
       "Cuartil 75                                    133.000000  \n",
       "Decil 10                                      131.000000  \n",
       "Percentil 1                                   131.000000  \n",
       "Rango                                           4.000000  \n",
       "Varianza                                        1.016092  \n",
       "Desviación típica                               1.008014  \n",
       "Coeficiente de variacion de Pearson             0.007610  \n",
       "Coeficiente de asimetria de Fisher              0.195106  \n",
       "Coeficiente Curtosis                           -0.186237  "
      ]
     },
     "execution_count": 6,
     "metadata": {},
     "output_type": "execute_result"
    }
   ],
   "source": [
    "# Realizacion de la tabla de comparación\n",
    "#-----------------------------------\n",
    "def series_medidas(lista_valores):\n",
    "    nombre_series = [\"Media\", \"Media geometrica\", \"Mediana\", \"Moda\",\n",
    "                     \"Cuartil 25\", \"Cuartil 75\", \"Decil 10\", \"Percentil 1\",\n",
    "                     \"Rango\", \"Varianza\", \"Desviación típica\", \"Coeficiente de variacion de Pearson\",\n",
    "                     \"Coeficiente de asimetria de Fisher\", \"Coeficiente Curtosis\"]\n",
    "    \n",
    "    series_dict = dict()\n",
    "    for i in range(len(nombre_series)):\n",
    "        series_dict[nombre_series[i]] = lista_valores[i]\n",
    "\n",
    "    return pd.Series(series_dict)\n",
    "\n",
    "medidas_tempr = [media_tempr, mgeo_tempr, mediana_tempr, moda_tempr,\n",
    "                 cuartil_25_tempr, cuartil_75_tempr, decil_10_tempr, percentil_1_tempr,\n",
    "                 rango_tempr, var_tempr, desv_tempr, CV_tempr,\n",
    "                 asim_tempr, curtosis_tempr]\n",
    "series_tempr = series_medidas(medidas_tempr)\n",
    "\n",
    "medidas_tard = [media_tard, mgeo_tard, mediana_tard, moda_tard,\n",
    "                cuartil_25_tard, cuartil_75_tard, decil_10_tard, percentil_1_tard,\n",
    "                rango_tard, var_tard, desv_tard, CV_tard,\n",
    "                asim_tard, curtosis_tard]\n",
    "series_tard = series_medidas(medidas_tard)\n",
    "\n",
    "\n",
    "\n",
    "# ---------------------------------------------------------\n",
    "columnas_predinastico = [\"Predinástico temprano\", \"Predinástico tardío\"]\n",
    "\n",
    "medidas_df = pd.DataFrame({columnas_predinastico[0]: series_tempr, columnas_predinastico[1]: series_tard})\n",
    "medidas_df"
   ]
  },
  {
   "cell_type": "markdown",
   "metadata": {},
   "source": [
    "Conclusiones de estos datos:\n",
    "* **Coeficiente de variacion**: Al tener unos coeficientes de variación tan pequeños podemos decir en ambos casos que los datos estan agrupados cerca de la media. \n",
    "* **Coeficiente de asimetría**: Ambos coeficientes son positivos, entonces la cola de la distribución se extiende para valores superiores a la media.\n",
    "* **Coeficiente de curtosis**: "
   ]
  },
  {
   "cell_type": "markdown",
   "metadata": {},
   "source": [
    "### a.2 Diagramas de caja y bigotes."
   ]
  },
  {
   "cell_type": "code",
   "execution_count": 9,
   "metadata": {},
   "outputs": [
    {
     "name": "stderr",
     "output_type": "stream",
     "text": [
      "c:\\Users\\Usuario\\AppData\\Local\\Programs\\Python\\Python312\\Lib\\site-packages\\seaborn\\categorical.py:700: UserWarning: Setting the 'color' property will override the edgecolor or facecolor properties.\n",
      "  artists = ax.bxp(**boxplot_kws)\n"
     ]
    },
    {
     "data": {
      "image/png": "[encoded data removed]",
      "text/plain": [
       "<Figure size 640x480 with 1 Axes>"
      ]
     },
     "metadata": {},
     "output_type": "display_data"
    }
   ],
   "source": [
    "sns.boxplot(x='Época histórica', y='Anchura del cráneo', data=df,\n",
    "            boxprops={'color': '#90eee7'}, \n",
    "            showmeans=True,\n",
    "            meanprops={\"marker\":\"o\", \"markerfacecolor\":\"red\", \"markeredgecolor\":\"black\", \"markersize\":\"8\"},\n",
    "            medianprops={'color': 'yellow', 'linewidth': 2})\n",
    "sns.swarmplot(x='Época histórica', y='Anchura del cráneo', data=df, color='black', alpha=0.5)\n",
    "plt.title('Diagrama de caja y bigotes')\n",
    "plt.xticks(ticks=[0,1], labels=[\"Predinástico temprano\", \"Predinástico tardío\"])\n",
    "plt.show()"
   ]
  },
  {
   "cell_type": "markdown",
   "metadata": {},
   "source": [
    "En el diagrama de caja y bigotes he decidido añadir el valor de la media, únicamente para ilustrar donde se situaría. Sé que está mal poner la media ya que no es un estadístico robusto y no da información relevante, pero creo que puede ser una ayuda."
   ]
  },
  {
   "cell_type": "markdown",
   "metadata": {},
   "source": [
    "## b. Determinar si las dos clases de muestras siguen una distribución normal mediante el test Kolmogorov-Smirnov."
   ]
  },
  {
   "cell_type": "markdown",
   "metadata": {},
   "source": [
    "Nuestro contraste de Kolmogorov-Smirnov-Lilliefords tiene las dos posibles hipotésis:\n",
    "* $H_0$: La muestra proviene de un modelo continuo F(x), el cual sigue una distribución normal.\n",
    "* $H_1$: La muestra no proviene de una distrución normal.\n",
    "\n",
    "Cuando en nuestra muestra existe un registro que tiene una probabilidad muy pequeña de ocurrir en caso de que $H_0$ sea cierto, deberiamos empezar a dudar de que la hipotesis nula sea cierta. Es por ello que en un contraste es necesario definir un nivel de significación $\\alpha$, el cual nos indica que si encontramos un registro con una probabilidad $\\alpha$ de ocurrir en nuestra muestra deberiamos rechazar la $H_0$. Visto de otra manera, este número puede interpretarse como la probabilidad que estamos dispuestos a asumir de rechazar $H_0$ cuando es cierta.\n",
    "Para nuestro problema hemos decidio usar:\n",
    "$$\n",
    "\\alpha = 0.05\n",
    "$$\n",
    "Lo cual en las tablas tabuladas del contraste de Kolmogorov-Smirnov nos da un valor crítico de:\n",
    "$$\n",
    "nivel\\; crítico = 0.242\n",
    "$$\n",
    "\n",
    "Teniendo $\\alpha$ fijado, nuestra región de rechazo estará determinada por $d_c$ el cual es la discrepancia máxima que estamos dispuestos a permitir. $d_c$ es elegida tal que:\n",
    "$$\n",
    "P(d>d_c|H_0 \\quad es \\: cierta)=\\alpha\n",
    "$$\n",
    "\n",
    "El *nivel crítico* o *p-value* del contraste nos indica la probabilidad de obtener un valor igual de extremo que la de nuestra muestra, cuando $H_0$ es cierta.\n",
    "$$\n",
    "p=Prob(d\\geq \\hat{d}/H_0)\n",
    "$$\n",
    "\n",
    "En caso de que nuestro *valor crítico* o *p-value* sea inferior a nuestro $\\alpha$, significará que la probabilidad de encontrar una muestra como la que tenemos, de una población donde $H_0$ es verdadero, será una probabilidad muy baja y para no cometer errores de tipo I podremos negar la hipotesis nula.\n",
    "\n",
    "Para realizar este contraste compararemos la distribución teórica F(x), con la empírica $F_n(x)$.\n",
    "$$\n",
    "F_n(x)=\n",
    "\\begin{cases}\n",
    "    0,\\quad si\\quad x<x_{(1)}\\\\\n",
    "    \\frac{r}{n},\\quad si\\quad x_{(r)}<=x<x_{(r+1)}\\\\\n",
    "    1,\\quad si\\quad x>=x_{(n)}\n",
    "\\end{cases}\n",
    "$$\n",
    "\n",
    "\n"
   ]
  },
  {
   "cell_type": "markdown",
   "metadata": {},
   "source": [
    "El contraste de Kolmogorov-Smirnov tiene el inconveniente de que al calcular F(x) estimando los parámetros de la población mediante la muestra, el contraste tiende a aceptar la hipótesis nula $H_0$.\n",
    "\n",
    "Para estos casos donde se utilizan los parámetros de la muestra para calcular F(x) la corrección Lilliefords suele dar mejores resultados.\n",
    "* $\\mu \\to \\bar{x}$\n",
    "* $\\sigma^2 \\to \\hat{s}^2$\n",
    "\n",
    "El problema con esta corrección es que para tamaños muestrales medianos la potencia es baja. Así que al final he decidido usar el contraste sin la corrección de Lilliefors, ya que no estoy seguro de su resultado."
   ]
  },
  {
   "cell_type": "code",
   "execution_count": 10,
   "metadata": {},
   "outputs": [],
   "source": [
    "# Usando la libreria de sklearn\n",
    "def estandarizador(datos):\n",
    "    estandar = sklearn.preprocessing.StandardScaler()\n",
    "    return estandar.fit_transform(datos)\n",
    "\n",
    "stand_tempr = estandarizador(tempr_arr.reshape(-1,1)).flatten()\n",
    "stand_tard = estandarizador(tard_arr.reshape(-1,1)).flatten()\n",
    "# pd.DataFrame({\"Predinastico temprano\": stand_tempr, \"Predinastico tardio\": stand_tard})"
   ]
  },
  {
   "cell_type": "code",
   "execution_count": 11,
   "metadata": {},
   "outputs": [],
   "source": [
    "# Creandola yo\n",
    "def estandarizador_1(datos, media, desviacion):\n",
    "    estandar = (datos-media)/desviacion\n",
    "    return estandar\n",
    "\n",
    "stand_tempr_1 = estandarizador_1(tempr_arr, media_tempr, desv_tempr)\n",
    "stand_tard_1 = estandarizador_1(tard_arr, media_tard, desv_tard)\n",
    "# pd.DataFrame({\"Predinastico temprano\": stand_tempr_1, \"Predinastico tardio\": stand_tard_1})"
   ]
  },
  {
   "cell_type": "code",
   "execution_count": 12,
   "metadata": {},
   "outputs": [
    {
     "data": {
      "text/html": [
       "<div>\n",
       "<style scoped>\n",
       "    .dataframe tbody tr th:only-of-type {\n",
       "        vertical-align: middle;\n",
       "    }\n",
       "\n",
       "    .dataframe tbody tr th {\n",
       "        vertical-align: top;\n",
       "    }\n",
       "\n",
       "    .dataframe thead tr th {\n",
       "        text-align: left;\n",
       "    }\n",
       "</style>\n",
       "<table border=\"1\" class=\"dataframe\">\n",
       "  <thead>\n",
       "    <tr>\n",
       "      <th></th>\n",
       "      <th colspan=\"2\" halign=\"left\">Predinástico temprano</th>\n",
       "      <th colspan=\"2\" halign=\"left\">Predinástico tardío</th>\n",
       "    </tr>\n",
       "    <tr>\n",
       "      <th></th>\n",
       "      <th>Funciones de librerias</th>\n",
       "      <th>Cálculo a mano</th>\n",
       "      <th>Funciones de librerias</th>\n",
       "      <th>Cálculo a mano</th>\n",
       "    </tr>\n",
       "  </thead>\n",
       "  <tbody>\n",
       "    <tr>\n",
       "      <th>0</th>\n",
       "      <td>1.820733</td>\n",
       "      <td>1.790130</td>\n",
       "      <td>-0.470871</td>\n",
       "      <td>-0.462957</td>\n",
       "    </tr>\n",
       "    <tr>\n",
       "      <th>1</th>\n",
       "      <td>-0.662085</td>\n",
       "      <td>-0.650956</td>\n",
       "      <td>0.538138</td>\n",
       "      <td>0.529093</td>\n",
       "    </tr>\n",
       "    <tr>\n",
       "      <th>2</th>\n",
       "      <td>-0.662085</td>\n",
       "      <td>-0.650956</td>\n",
       "      <td>-1.479880</td>\n",
       "      <td>-1.455006</td>\n",
       "    </tr>\n",
       "    <tr>\n",
       "      <th>3</th>\n",
       "      <td>0.579324</td>\n",
       "      <td>0.569587</td>\n",
       "      <td>0.538138</td>\n",
       "      <td>0.529093</td>\n",
       "    </tr>\n",
       "    <tr>\n",
       "      <th>4</th>\n",
       "      <td>3.062142</td>\n",
       "      <td>3.010674</td>\n",
       "      <td>0.538138</td>\n",
       "      <td>0.529093</td>\n",
       "    </tr>\n",
       "  </tbody>\n",
       "</table>\n",
       "</div>"
      ],
      "text/plain": [
       "   Predinástico temprano                   Predinástico tardío               \n",
       "  Funciones de librerias Cálculo a mano Funciones de librerias Cálculo a mano\n",
       "0               1.820733       1.790130              -0.470871      -0.462957\n",
       "1              -0.662085      -0.650956               0.538138       0.529093\n",
       "2              -0.662085      -0.650956              -1.479880      -1.455006\n",
       "3               0.579324       0.569587               0.538138       0.529093\n",
       "4               3.062142       3.010674               0.538138       0.529093"
      ]
     },
     "execution_count": 12,
     "metadata": {},
     "output_type": "execute_result"
    }
   ],
   "source": [
    "df2 = multiIndex_df([stand_tempr, stand_tempr_1, stand_tard, stand_tard_1])\n",
    "df2.head(5)"
   ]
  },
  {
   "cell_type": "markdown",
   "metadata": {},
   "source": [
    "Bueno ahora vamos a realizar la combrobación de si ambas muestras provienen de una distribución normal o no."
   ]
  },
  {
   "cell_type": "code",
   "execution_count": 13,
   "metadata": {},
   "outputs": [
    {
     "data": {
      "text/html": [
       "<div>\n",
       "<style scoped>\n",
       "    .dataframe tbody tr th:only-of-type {\n",
       "        vertical-align: middle;\n",
       "    }\n",
       "\n",
       "    .dataframe tbody tr th {\n",
       "        vertical-align: top;\n",
       "    }\n",
       "\n",
       "    .dataframe thead th {\n",
       "        text-align: right;\n",
       "    }\n",
       "</style>\n",
       "<table border=\"1\" class=\"dataframe\">\n",
       "  <thead>\n",
       "    <tr style=\"text-align: right;\">\n",
       "      <th></th>\n",
       "      <th>Predinástico temprano</th>\n",
       "      <th>Predinástico tardío</th>\n",
       "    </tr>\n",
       "  </thead>\n",
       "  <tbody>\n",
       "    <tr>\n",
       "      <th>Estadistico</th>\n",
       "      <td>0.246042</td>\n",
       "      <td>0.238093</td>\n",
       "    </tr>\n",
       "    <tr>\n",
       "      <th>p value</th>\n",
       "      <td>0.043795</td>\n",
       "      <td>0.055727</td>\n",
       "    </tr>\n",
       "  </tbody>\n",
       "</table>\n",
       "</div>"
      ],
      "text/plain": [
       "             Predinástico temprano  Predinástico tardío\n",
       "Estadistico               0.246042             0.238093\n",
       "p value                   0.043795             0.055727"
      ]
     },
     "execution_count": 13,
     "metadata": {},
     "output_type": "execute_result"
    }
   ],
   "source": [
    "statistic_tempr, pvalue_tempr = scipy.stats.ks_1samp(stand_tempr, scipy.stats.norm.cdf)\n",
    "statistic_tard, pvalue_tard = scipy.stats.ks_1samp(stand_tard, scipy.stats.norm.cdf)\n",
    "\n",
    "df3 = pd.DataFrame([[statistic_tempr, statistic_tard], [pvalue_tempr, pvalue_tard]], \n",
    "                   columns=columnas_predinastico,\n",
    "                   index=[\"Estadistico\",\n",
    "                           \"p value\"])\n",
    "df3"
   ]
  },
  {
   "cell_type": "markdown",
   "metadata": {},
   "source": [
    "Realicemos el estudio de los resultados del contraste:\n",
    "**Predinástico temprano**\n",
    "* Estadístico nos indica el valor de discrepancia superior al permitido por el contraste, por lo que se debe rechazar la hipotesis nula.\n",
    "* p value nos indica que esta muestra es poco probable que ocurra al recoger 30 registros de una población con $H_0$ verdadera.\n",
    "En resumen, en el predinastico temprano se rechaza la hipotesis nula.\n",
    "**Predinastico tardío**\n",
    "* Estadistico nos indica una discrepancia incluida en la región de aceptación.\n",
    "* p-value nos indica que existe una probabilidad aceptable de que nuestra muestra sea de la población definida en $H_0$\n",
    "Se puede concluir que en el predinástico tardío se acepta la hipotesis nula."
   ]
  },
  {
   "cell_type": "markdown",
   "metadata": {},
   "source": [
    "## Ejercicio 2. "
   ]
  },
  {
   "cell_type": "markdown",
   "metadata": {},
   "source": [
    "### a. Con los mismos datos del ejercicio anterior, obtener un intervalo de confianza (de nivel 0.9, de nivel 0.95 y de nivel 0.99) para la diferencia entre las medias de la anchura de la cabeza en ambos periodos históricos. \n",
    "Interpretar los resultados obtenidos y discutirlos en función del test de normalidad del ejercicio anterior. La interpretación debe ser rigurosa desde el punto de vista estadístico y también marcada por el story telling, es decir, comprensible desde el punto de vista de las variables respondiendo a la pregunta ¿en qué época la cabeza era más ancha?"
   ]
  },
  {
   "cell_type": "markdown",
   "metadata": {},
   "source": [
    "Primero debemos asegurarnos de que se cumplen las siguientes condiciones:\n",
    "* Definir que las muestras son independientes. Este dato viene dado en el apartado b, dictaminando que si son independientes.\n",
    "* Saber si las varianzas poblacionales son desconocidas.\n",
    "* Demostrar si las varianzas poblacionales son iguales o diferentes\n",
    "\n",
    "Primero deberemos averiguar si las dos poblaciones normales(se que hemos detallado en el apartado anterior que los datos del *Predinastico temprano* no siguen una distribución normal, pero realizaremos los calculos como si lo fuera) tienen la misma varianza, para ello plantearemos las siguientes hipotesis:\n",
    "\n",
    "$$ H_0: \\sigma_1^2 = \\sigma_2^2$$\n",
    "$$ H_1: \\sigma_1^2 \\neq \\sigma_2^2$$\n",
    "\n",
    "Para llevar a cabo esta comparación la discrepancia entre las varianzas muestrales será:\n",
    "$$ d=\\frac{\\hat{s}_1^2}{\\hat{s}_2^2}=F_{(n_1-1;n_2-1)}$$\n",
    "Ahora definiremos la región de aceptación con los valores $F_a$ y $F_b$ tales que:\n",
    "$$ P(F_a\\leq F\\leq F_b)=1-\\alpha$$\n"
   ]
  }
 ],
 "metadata": {
  "kernelspec": {
   "display_name": "Python 3",
   "language": "python",
   "name": "python3"
  },
  "language_info": {
   "codemirror_mode": {
    "name": "ipython",
    "version": 3
   },
   "file_extension": ".py",
   "mimetype": "text/x-python",
   "name": "python",
   "nbconvert_exporter": "python",
   "pygments_lexer": "ipython3",
   "version": "3.12.2"
  }
 },
 "nbformat": 4,
 "nbformat_minor": 2
}
