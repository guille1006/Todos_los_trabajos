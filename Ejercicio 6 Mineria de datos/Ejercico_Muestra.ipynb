{
 "cells": [
  {
   "cell_type": "markdown",
   "metadata": {},
   "source": [
    "# Obtencion de modelos"
   ]
  },
  {
   "cell_type": "code",
   "execution_count": 6,
   "metadata": {},
   "outputs": [],
   "source": [
    "import pandas as pd\n",
    "import numpy as np\n",
    "from collections import defaultdict\n",
    "from sklearn.model_selection import train_test_split\n",
    "from itertools import product\n",
    "from itertools import chain\n",
    "import statsmodels.api as sm\n",
    "\n",
    "\n",
    "pd.set_option('display.max_columns', None)  \n",
    "pd.set_option('display.max_rows', None) "
   ]
  },
  {
   "cell_type": "code",
   "execution_count": 7,
   "metadata": {},
   "outputs": [],
   "source": [
    "data = pd.read_excel(\"DatosEleccionesEspaña.xlsx\", sheet_name=\"DatosEleccionesEspaña\")\n",
    "\n",
    "out_variables_dependientes = [\"AbstencionAlta\",\n",
    "                              \"AbstentionPtge\",\n",
    "                              \"Izda_Pct\",\n",
    "                              \"Dcha_Pct\",\n",
    "                              \"Otros_Pct\",\n",
    "                              \"Izquierda\",\n",
    "                              \"Derecha\"]\n",
    "\n",
    "Y = data[\"AbstentionPtge\"]\n",
    "X = data.drop(columns=out_variables_dependientes)"
   ]
  },
  {
   "cell_type": "markdown",
   "metadata": {},
   "source": [
    "## 2. Dividimos los datos en un conjunto de entrenamiento y otro de prueba"
   ]
  },
  {
   "cell_type": "code",
   "execution_count": 8,
   "metadata": {},
   "outputs": [],
   "source": [
    "X_train , X_test , Y_train , Y_test = train_test_split(X, Y, test_size=0.2 , random_state =1234567)"
   ]
  },
  {
   "cell_type": "code",
   "execution_count": 9,
   "metadata": {},
   "outputs": [],
   "source": [
    "def lm(varObjCont, datos, var_cont, var_categ, var_interac=[]):\n",
    "    \"\"\"\n",
    "    Ajusta un modelo de regresión lineal a los datos y devuelve\n",
    "    información relacionada con el modelo.\n",
    "\n",
    "    Parámetros:\n",
    "    varObjCont (Series o array): La variable objetivo continua que se está tratando de predecir.\n",
    "    datos (DataFrame): DataFrame de datos que contiene las variables de entrada o predictoras.\n",
    "    var_cont (lista): Lista de nombres de variables continuas.\n",
    "    var_categ (lista): Lista de nombres de variables categóricas.\n",
    "    var_interac (lista, opcional): Lista de pares de variables para la interacción (por defecto es una lista vacía).\n",
    "\n",
    "    Returns:\n",
    "    dict: Un diccionario que contiene información relacionada con el modelo ajustado, incluyendo el modelo en sí,\n",
    "    las listas de variables continuas y categóricas, las variables de interacción (si se especifican)\n",
    "    y el DataFrame X utilizado para realizar el modelo.\n",
    "    \"\"\"\n",
    "\n",
    "    # Prepara los datos para el modelo, incluyendo la dummificación de variables categóricas y la creación de interacciones.\n",
    "    datos = crear_data_modelo(datos, var_cont, var_categ, var_interac)\n",
    "\n",
    "    # Ajusta un modelo de regresión lineal a los datos y almacena la información del modelo en 'Modelo'.\n",
    "    output = {\n",
    "        'Modelo': sm.OLS(varObjCont, sm.add_constant(datos)).fit(),\n",
    "        'Variables': {\n",
    "            'cont': var_cont,\n",
    "            'categ': var_categ,\n",
    "            'inter': var_interac\n",
    "        },\n",
    "        'X': datos\n",
    "    }\n",
    "\n",
    "    return output"
   ]
  },
  {
   "cell_type": "code",
   "execution_count": 10,
   "metadata": {},
   "outputs": [],
   "source": [
    "def crear_data_modelo(datos, var_cont, var_categ, var_interac=[]):\n",
    "    \"\"\"\n",
    "    Función para preparar datos para su uso en un modelo, incluyendo variables numéricas, categóricas y la interacción entre variables.\n",
    "\n",
    "    Parámetros:\n",
    "    datos (DataFrame): El DataFrame de datos original.\n",
    "    var_cont (lista): Lista de nombres de variables continuas.\n",
    "    var_categ (lista): Lista de nombres de variables categóricas.\n",
    "    var_interac (lista, opcional): Lista de pares de variables para la interacción (por defecto es una lista vacía).\n",
    "\n",
    "    Returns:\n",
    "    datos_v: DataFrame preparado con variables categóricas codificadas y las interacciones calculadas.\n",
    "    \"\"\"\n",
    "\n",
    "    # Verifica si no hay variables de entrada\n",
    "    if len(var_cont + var_categ + var_interac) == 0:\n",
    "        return datos[[]]\n",
    "\n",
    "    # Selecciona las variables continuas y categóricas\n",
    "    datos_v = datos[var_cont + var_categ]\n",
    "\n",
    "    # Codifica las variables categóricas si existen\n",
    "    if len(var_categ) > 0:\n",
    "        datos_v = pd.get_dummies(datos_v, columns=var_categ, drop_first=True)\n",
    "\n",
    "    # Calcula una lista de todas las variables de entrada\n",
    "    variables_total = list(set(var_cont + var_categ + list(chain.from_iterable(var_interac))))\n",
    "\n",
    "    # Identifica las nuevas variables categóricas\n",
    "    var_categ_new = datos[variables_total].select_dtypes(include=['object', 'category']).columns.tolist()\n",
    "\n",
    "    # Codifica las nuevas variables categóricas\n",
    "    datos = pd.get_dummies(datos[variables_total], columns=var_categ_new, drop_first=True)\n",
    "\n",
    "    # Calcula las interacciones si se especifican\n",
    "    if len(var_interac) > 0:\n",
    "        n_var = len(datos.columns)\n",
    "        for interac in var_interac:\n",
    "            vars1 = [x for x in datos.columns[:n_var] if interac[0] in x]\n",
    "            vars2 = [x for x in datos.columns[:n_var] if interac[1] in x]\n",
    "            combinaciones = list(product(vars1, vars2))\n",
    "            for comb in combinaciones:\n",
    "                datos[comb[0] + '_' + comb[1]] = datos[comb[0]] * datos[comb[1]]\n",
    "\n",
    "        # Selecciona las variables de interacción calculadas\n",
    "        datos_interac = datos.iloc[:, list(range(n_var, len(datos.columns)))]\n",
    "\n",
    "        # Concatena las variables continuas, categóricas y las interacciones\n",
    "        return pd.concat([datos_v, datos_interac], axis=1)\n",
    "\n",
    "    # Si no hay interacciones, se devuelve el DataFrame con variables categóricas codificadas\n",
    "    return datos_v\n"
   ]
  },
  {
   "cell_type": "code",
   "execution_count": 11,
   "metadata": {},
   "outputs": [
    {
     "ename": "KeyError",
     "evalue": "\"None of [Index(['X1', 'X2', 'X3', 'X4', 'X5'], dtype='object')] are in the [columns]\"",
     "output_type": "error",
     "traceback": [
      "\u001b[1;31m---------------------------------------------------------------------------\u001b[0m",
      "\u001b[1;31mKeyError\u001b[0m                                  Traceback (most recent call last)",
      "Cell \u001b[1;32mIn[11], line 7\u001b[0m\n\u001b[0;32m      4\u001b[0m var_interac \u001b[38;5;241m=\u001b[39m [(\u001b[38;5;124m'\u001b[39m\u001b[38;5;124mX4\u001b[39m\u001b[38;5;124m'\u001b[39m, \u001b[38;5;124m'\u001b[39m\u001b[38;5;124mX5\u001b[39m\u001b[38;5;124m'\u001b[39m)]\n\u001b[0;32m      6\u001b[0m \u001b[38;5;66;03m# Llamar a la función lm\u001b[39;00m\n\u001b[1;32m----> 7\u001b[0m modelo \u001b[38;5;241m=\u001b[39m \u001b[43mlm\u001b[49m\u001b[43m(\u001b[49m\u001b[43mY_train\u001b[49m\u001b[43m,\u001b[49m\u001b[43m \u001b[49m\u001b[43mX_train\u001b[49m\u001b[43m,\u001b[49m\u001b[43m \u001b[49m\u001b[43mvar_cont\u001b[49m\u001b[43m,\u001b[49m\u001b[43m \u001b[49m\u001b[43mvar_categ\u001b[49m\u001b[43m,\u001b[49m\u001b[43m \u001b[49m\u001b[43mvar_interac\u001b[49m\u001b[43m)\u001b[49m\n",
      "Cell \u001b[1;32mIn[9], line 20\u001b[0m, in \u001b[0;36mlm\u001b[1;34m(varObjCont, datos, var_cont, var_categ, var_interac)\u001b[0m\n\u001b[0;32m      2\u001b[0m \u001b[38;5;250m\u001b[39m\u001b[38;5;124;03m\"\"\"\u001b[39;00m\n\u001b[0;32m      3\u001b[0m \u001b[38;5;124;03mAjusta un modelo de regresión lineal a los datos y devuelve\u001b[39;00m\n\u001b[0;32m      4\u001b[0m \u001b[38;5;124;03minformación relacionada con el modelo.\u001b[39;00m\n\u001b[1;32m   (...)\u001b[0m\n\u001b[0;32m     16\u001b[0m \u001b[38;5;124;03my el DataFrame X utilizado para realizar el modelo.\u001b[39;00m\n\u001b[0;32m     17\u001b[0m \u001b[38;5;124;03m\"\"\"\u001b[39;00m\n\u001b[0;32m     19\u001b[0m \u001b[38;5;66;03m# Prepara los datos para el modelo, incluyendo la dummificación de variables categóricas y la creación de interacciones.\u001b[39;00m\n\u001b[1;32m---> 20\u001b[0m datos \u001b[38;5;241m=\u001b[39m \u001b[43mcrear_data_modelo\u001b[49m\u001b[43m(\u001b[49m\u001b[43mdatos\u001b[49m\u001b[43m,\u001b[49m\u001b[43m \u001b[49m\u001b[43mvar_cont\u001b[49m\u001b[43m,\u001b[49m\u001b[43m \u001b[49m\u001b[43mvar_categ\u001b[49m\u001b[43m,\u001b[49m\u001b[43m \u001b[49m\u001b[43mvar_interac\u001b[49m\u001b[43m)\u001b[49m\n\u001b[0;32m     22\u001b[0m \u001b[38;5;66;03m# Ajusta un modelo de regresión lineal a los datos y almacena la información del modelo en 'Modelo'.\u001b[39;00m\n\u001b[0;32m     23\u001b[0m output \u001b[38;5;241m=\u001b[39m {\n\u001b[0;32m     24\u001b[0m     \u001b[38;5;124m'\u001b[39m\u001b[38;5;124mModelo\u001b[39m\u001b[38;5;124m'\u001b[39m: sm\u001b[38;5;241m.\u001b[39mOLS(varObjCont, sm\u001b[38;5;241m.\u001b[39madd_constant(datos))\u001b[38;5;241m.\u001b[39mfit(),\n\u001b[0;32m     25\u001b[0m     \u001b[38;5;124m'\u001b[39m\u001b[38;5;124mVariables\u001b[39m\u001b[38;5;124m'\u001b[39m: {\n\u001b[1;32m   (...)\u001b[0m\n\u001b[0;32m     30\u001b[0m     \u001b[38;5;124m'\u001b[39m\u001b[38;5;124mX\u001b[39m\u001b[38;5;124m'\u001b[39m: datos\n\u001b[0;32m     31\u001b[0m }\n",
      "Cell \u001b[1;32mIn[10], line 20\u001b[0m, in \u001b[0;36mcrear_data_modelo\u001b[1;34m(datos, var_cont, var_categ, var_interac)\u001b[0m\n\u001b[0;32m     17\u001b[0m     \u001b[38;5;28;01mreturn\u001b[39;00m datos[[]]\n\u001b[0;32m     19\u001b[0m \u001b[38;5;66;03m# Selecciona las variables continuas y categóricas\u001b[39;00m\n\u001b[1;32m---> 20\u001b[0m datos_v \u001b[38;5;241m=\u001b[39m \u001b[43mdatos\u001b[49m\u001b[43m[\u001b[49m\u001b[43mvar_cont\u001b[49m\u001b[43m \u001b[49m\u001b[38;5;241;43m+\u001b[39;49m\u001b[43m \u001b[49m\u001b[43mvar_categ\u001b[49m\u001b[43m]\u001b[49m\n\u001b[0;32m     22\u001b[0m \u001b[38;5;66;03m# Codifica las variables categóricas si existen\u001b[39;00m\n\u001b[0;32m     23\u001b[0m \u001b[38;5;28;01mif\u001b[39;00m \u001b[38;5;28mlen\u001b[39m(var_categ) \u001b[38;5;241m>\u001b[39m \u001b[38;5;241m0\u001b[39m:\n",
      "File \u001b[1;32mc:\\Users\\Usuario\\AppData\\Local\\Programs\\Python\\Python312\\Lib\\site-packages\\pandas\\core\\frame.py:4108\u001b[0m, in \u001b[0;36mDataFrame.__getitem__\u001b[1;34m(self, key)\u001b[0m\n\u001b[0;32m   4106\u001b[0m     \u001b[38;5;28;01mif\u001b[39;00m is_iterator(key):\n\u001b[0;32m   4107\u001b[0m         key \u001b[38;5;241m=\u001b[39m \u001b[38;5;28mlist\u001b[39m(key)\n\u001b[1;32m-> 4108\u001b[0m     indexer \u001b[38;5;241m=\u001b[39m \u001b[38;5;28;43mself\u001b[39;49m\u001b[38;5;241;43m.\u001b[39;49m\u001b[43mcolumns\u001b[49m\u001b[38;5;241;43m.\u001b[39;49m\u001b[43m_get_indexer_strict\u001b[49m\u001b[43m(\u001b[49m\u001b[43mkey\u001b[49m\u001b[43m,\u001b[49m\u001b[43m \u001b[49m\u001b[38;5;124;43m\"\u001b[39;49m\u001b[38;5;124;43mcolumns\u001b[39;49m\u001b[38;5;124;43m\"\u001b[39;49m\u001b[43m)\u001b[49m[\u001b[38;5;241m1\u001b[39m]\n\u001b[0;32m   4110\u001b[0m \u001b[38;5;66;03m# take() does not accept boolean indexers\u001b[39;00m\n\u001b[0;32m   4111\u001b[0m \u001b[38;5;28;01mif\u001b[39;00m \u001b[38;5;28mgetattr\u001b[39m(indexer, \u001b[38;5;124m\"\u001b[39m\u001b[38;5;124mdtype\u001b[39m\u001b[38;5;124m\"\u001b[39m, \u001b[38;5;28;01mNone\u001b[39;00m) \u001b[38;5;241m==\u001b[39m \u001b[38;5;28mbool\u001b[39m:\n",
      "File \u001b[1;32mc:\\Users\\Usuario\\AppData\\Local\\Programs\\Python\\Python312\\Lib\\site-packages\\pandas\\core\\indexes\\base.py:6200\u001b[0m, in \u001b[0;36mIndex._get_indexer_strict\u001b[1;34m(self, key, axis_name)\u001b[0m\n\u001b[0;32m   6197\u001b[0m \u001b[38;5;28;01melse\u001b[39;00m:\n\u001b[0;32m   6198\u001b[0m     keyarr, indexer, new_indexer \u001b[38;5;241m=\u001b[39m \u001b[38;5;28mself\u001b[39m\u001b[38;5;241m.\u001b[39m_reindex_non_unique(keyarr)\n\u001b[1;32m-> 6200\u001b[0m \u001b[38;5;28;43mself\u001b[39;49m\u001b[38;5;241;43m.\u001b[39;49m\u001b[43m_raise_if_missing\u001b[49m\u001b[43m(\u001b[49m\u001b[43mkeyarr\u001b[49m\u001b[43m,\u001b[49m\u001b[43m \u001b[49m\u001b[43mindexer\u001b[49m\u001b[43m,\u001b[49m\u001b[43m \u001b[49m\u001b[43maxis_name\u001b[49m\u001b[43m)\u001b[49m\n\u001b[0;32m   6202\u001b[0m keyarr \u001b[38;5;241m=\u001b[39m \u001b[38;5;28mself\u001b[39m\u001b[38;5;241m.\u001b[39mtake(indexer)\n\u001b[0;32m   6203\u001b[0m \u001b[38;5;28;01mif\u001b[39;00m \u001b[38;5;28misinstance\u001b[39m(key, Index):\n\u001b[0;32m   6204\u001b[0m     \u001b[38;5;66;03m# GH 42790 - Preserve name from an Index\u001b[39;00m\n",
      "File \u001b[1;32mc:\\Users\\Usuario\\AppData\\Local\\Programs\\Python\\Python312\\Lib\\site-packages\\pandas\\core\\indexes\\base.py:6249\u001b[0m, in \u001b[0;36mIndex._raise_if_missing\u001b[1;34m(self, key, indexer, axis_name)\u001b[0m\n\u001b[0;32m   6247\u001b[0m \u001b[38;5;28;01mif\u001b[39;00m nmissing:\n\u001b[0;32m   6248\u001b[0m     \u001b[38;5;28;01mif\u001b[39;00m nmissing \u001b[38;5;241m==\u001b[39m \u001b[38;5;28mlen\u001b[39m(indexer):\n\u001b[1;32m-> 6249\u001b[0m         \u001b[38;5;28;01mraise\u001b[39;00m \u001b[38;5;167;01mKeyError\u001b[39;00m(\u001b[38;5;124mf\u001b[39m\u001b[38;5;124m\"\u001b[39m\u001b[38;5;124mNone of [\u001b[39m\u001b[38;5;132;01m{\u001b[39;00mkey\u001b[38;5;132;01m}\u001b[39;00m\u001b[38;5;124m] are in the [\u001b[39m\u001b[38;5;132;01m{\u001b[39;00maxis_name\u001b[38;5;132;01m}\u001b[39;00m\u001b[38;5;124m]\u001b[39m\u001b[38;5;124m\"\u001b[39m)\n\u001b[0;32m   6251\u001b[0m     not_found \u001b[38;5;241m=\u001b[39m \u001b[38;5;28mlist\u001b[39m(ensure_index(key)[missing_mask\u001b[38;5;241m.\u001b[39mnonzero()[\u001b[38;5;241m0\u001b[39m]]\u001b[38;5;241m.\u001b[39munique())\n\u001b[0;32m   6252\u001b[0m     \u001b[38;5;28;01mraise\u001b[39;00m \u001b[38;5;167;01mKeyError\u001b[39;00m(\u001b[38;5;124mf\u001b[39m\u001b[38;5;124m\"\u001b[39m\u001b[38;5;132;01m{\u001b[39;00mnot_found\u001b[38;5;132;01m}\u001b[39;00m\u001b[38;5;124m not in index\u001b[39m\u001b[38;5;124m\"\u001b[39m)\n",
      "\u001b[1;31mKeyError\u001b[0m: \"None of [Index(['X1', 'X2', 'X3', 'X4', 'X5'], dtype='object')] are in the [columns]\""
     ]
    }
   ],
   "source": [
    "# Definir las variables\n",
    "var_cont = ['X1', 'X2']\n",
    "var_categ = ['X3', 'X4', 'X5']\n",
    "var_interac = [('X4', 'X5')]\n",
    "\n",
    "# Llamar a la función lm\n",
    "modelo = lm(Y_train, X_train, var_cont, var_categ, var_interac)"
   ]
  },
  {
   "cell_type": "code",
   "execution_count": null,
   "metadata": {},
   "outputs": [],
   "source": [
    "# Definir las variables\n",
    "var_cont = []\n",
    "var_categ = ['Etiqueta', 'CalifProductor', 'Clasificacion']\n",
    "\n",
    "# Llamar a la función lm\n",
    "modelo = lm(y_train, x_train, var_cont, var_categ)\n",
    "\n",
    "# Mostrar el resumen del modelo ajustado\n",
    "modelo['Modelo'].summary()\n"
   ]
  }
 ],
 "metadata": {
  "kernelspec": {
   "display_name": "Python 3",
   "language": "python",
   "name": "python3"
  },
  "language_info": {
   "codemirror_mode": {
    "name": "ipython",
    "version": 3
   },
   "file_extension": ".py",
   "mimetype": "text/x-python",
   "name": "python",
   "nbconvert_exporter": "python",
   "pygments_lexer": "ipython3",
   "version": "3.12.2"
  }
 },
 "nbformat": 4,
 "nbformat_minor": 2
}
