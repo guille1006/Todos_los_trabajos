{
 "cells": [
  {
   "cell_type": "markdown",
   "metadata": {},
   "source": [
    "# Scoring\n",
    "\n",
    "El objetivo de scoring o Puntuacion de riesgos es valorar el riesgo de incumplimiento de pago de un nuevo cliente. Esta calificación permitirá poner nota a los clientes y separar a los malos clientes (bajo score) de los buenos (alto score)\n",
    "## Modelos de probabilidad.\n",
    "En estos modelos, la variable objetivo es la probabilidad de que ocurra un impago, y se trata de estimar dicha probabilidad en función de unas variables independientes.\n",
    "$ P(impago) = F(variables) $ \n",
    "Para poder crear este modelo de probabilidad, necesitaremos una base de datos de clientes ya etiquetados \n",
    "-> Pagados serán aquellos que impago = 0\n",
    "-> No pagados serán aquellos que impago = 1\n",
    "Después con con nuestro modelo creado, aplicaremos las reglas a nuestro nuevo cliente para ver si aprueba el examen a apartir de sus variables independientes.\n",
    "## Sesgos de selección muestral\n",
    "Los sesgos de selección muestral hacen que infravaloren(o sobrevaloren) de manera sistematica la verdadera lprobabilidad de un impago.\n",
    "Este sesgo aparece cuando se selecciona una muestra de la población para entrnar el modelo predictivo que en realidad no es representativa de toda la población sonre la que quiero aplicar el modelo. El modelo no tendrá sesgo cuando la muestra escogida sea representativa de la población real.\n",
    "Un ejemplo claro se puede dar en las muestras de datos de los casos de admisión de crédito. Nosotros tendremos una base de datos con todos los clientes actuales o anteriores de nuestra empresa, donde aquellos clientes están ya etiqutados como impagados o pagados. Pero esos clientes, para estar en nuestrea base de datos, ya han tenido que pasar un filtro para que sean clientes nuestros, por lo que no tendríamos en cuenta aquellos clientes que no pasaron el primer filtro. \n",
    "Entonces el problema se puede resumir en que por un lado tendremos nuestra población de la que queremos predecir su probabilidad de impago, y por otro lado tendremos un modelo que ha sido entrenado con observaciones que han pasado un filtro previo (sesgada). Este filtro nos convierte en ciegos para saber cuales fueron verdadreos positivos (gente que haría un impago pero que el primer filtro ya lo previo) y los falsos negativos (gente que hubiera pagado pero que no paso el filtro inicial).\n",
    "## Probabilidad de impago vs puntuación de riesgo.\n",
    "Los modelos de probabilidad tienen como variable objetivo la lprobabilidad de impago P(impago), que tomará valores entre 0 y 1. \n",
    "Un buen modelo de crédito será aquel que sea capaz de identificar o separar bien a los buenos de los malos clientes en función de su probabilidad estimada. \n",
    "La mayoría de los modelos de puntuación no utilizán directamente la probailidad de impago como medida de riesgo. Hacen una tranformaciñon inversa "
   ]
  },
  {
   "cell_type": "markdown",
   "metadata": {},
   "source": [
    "# Estadistica espacial\n",
    "## Anlisis de datos espaciales: datos que tienen asociados una localización en el espacio. \n",
    "•\tPrimera ley de la geografía:\n",
    "Todo tiene que ver con todo,  pero las cosas cercanas están más relacionadas netre si que las cosas lejanas. \n",
    "## Objetivos del análisis espacial.\n",
    "o\tPosicionar y representar en el espacio nuestras variables y entender como se distribuyen en el espacio.\n",
    "o\tMedir áreas y distancias\n",
    "o\tCalcular ubicaciones y rutas optimas\n",
    "o\tBuscar patrones\n",
    "o\tRealizar predicciones o interpolaciones\n",
    "## Tipos de estructura de datos espaciales\n",
    "•\tDatos raster: registran la información espacial en una cuadricula regular de forma que cada celda contiene un numero que reprenta una forma geográfica determinada.\n",
    "•\tDatos vectoriales: registran la información en forma de coordenadas geográficas en un sistema plano de coordenadas. Cada punto se registra como una localización simple (x, y), mientras que las formas lineales y los contornos de polígonos se recorren como series ordendas de coordenadas\n",
    "## Modelos de Econometria Espacial\n",
    "Son modelos de regresión donde se tiene en cuenta de manera explícita la dependencia espacial (lo que ocurre en un área, una región o un punto determinado del espacio). \n",
    "-> El espacio está relacionado con lo que ocurre a su alrededor\n",
    "## Analísis exploratorio de los datos espaciales (AEDE)\n",
    "Constituye la parte inicial de cualquier estudio econometrico que utilice datos espaciales. Está ideado para el estudio univariante.\n",
    "Se trata de un conjunto de tecnicas(graficas y numericas) que permiten:\n",
    "* Describir y visualizar distribuciones espaciales.\n",
    "* Identificar localizaciones espaciales atípicas (outliers)\n",
    "* Descubrir patrones de asociacion espacial, clusteres...\n",
    "* Sugerir regímenes espaciales u otras formas de heterogeneidad espacial\n",
    "* Busqueda de dependencias Espaciales.\n",
    "\n",
    "\n",
    "\n",
    "\n"
   ]
  },
  {
   "attachments": {
    "image.png": {
     "image/png": "[encoded data removed]"
    }
   },
   "cell_type": "markdown",
   "metadata": {},
   "source": [
    "## Efectos espaciales.\n",
    "### Heterogeneidad espacial (HE): \n",
    "No homogeneidad del mismo fenómenoanalizado en distintos puntos del espacio.\n",
    "* Inestabilidad estructural: ausencia de *estabilidad* en el espacio del comportamiento de la variable estudiada que lleva a que la forma funcional y los parametros de una **regresión** varien segun su localización\n",
    "* Heterocedasticidad: omisión de variables relevantes que llevan a eerores de medida en la especificación que se concretan en vairanza diferentes en el término de error.\n",
    "$$ Var(u_i)=\\sigma_i^2$$\n",
    "\n",
    "**PUEDE TRATARSE CON TECNICAS ECONOMETRICAS ESTANDAR**\n",
    "\n",
    "### Autocorrelación (dependecia) espacial (AE): \n",
    "Los datos observados en un punto del espacio no son independientes de los valores observados en puntos de su alrededor.\n",
    "\n",
    "Esto es, una variable se encontrará **espacialmente autocorrelacionada** cuando los valores observados en un lugar determinado dependen, no solo de ciertos valores externos, (otras variables), sino también de los valores observados en regiones vecinas.\n",
    "\n",
    "#### Fuentes la Autocorrelación espacial: \n",
    "* Errores de medición para las observaciones en unidades espaciales contiguas por delimitación arbitraria de las unidades espaciales -> Que no recogen bien le proceso generador de datos \n",
    "* Agregación espacial de los datos -> Que puede no corresponder con su proceso generador\n",
    "* Interacción espacial de las unidades externalidades en forma de spillover (efectos de desbordamiento) espaciales y jerarquias espaciales.\n",
    "#### Tipos de Autocrrelación. \n",
    "![image.png](attachment:image.png)\n",
    "\n",
    "#### Estimación de la Autocorrelación espacial. \n",
    "La dependencia espacial está determinada por una noción de espacio relativo o de localización relativa que realza el efecto de la **distancia**\n",
    "-> ¿Como definimos la vecinidad?\n",
    "\n",
    "Nota: Vecinidad no implica necesariamente contigüidad fisica (en el espacio), sino que existen una gran cantidad de criterios para definirla (por ejemplo, pueden definirse distacia en términos de volumen de comercio entre países)\n",
    "\n",
    "<div style=\"border: 2px solid black; padding: 10px; width: fit-content;\">\n",
    "Para estimar autocorrelacion espacial, lo primero que hay qeu determinar son los puntos que están cercano o las regiones (poligonos) que son colindantes (vecinos). Esto se hace con la ayuda de las matrices de pesos espaciales o matriz de proximidad espacial, y que se simboliza como W\n",
    "</div>\n",
    "\n",
    "La matriz **W** de pesos espaciales es una matriz cuadrada (nxn)"
   ]
  }
 ],
 "metadata": {
  "language_info": {
   "name": "python"
  }
 },
 "nbformat": 4,
 "nbformat_minor": 2
}
