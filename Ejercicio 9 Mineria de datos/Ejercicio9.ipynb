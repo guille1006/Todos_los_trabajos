{
 "cells": [
  {
   "cell_type": "code",
   "execution_count": 58,
   "metadata": {},
   "outputs": [
    {
     "ename": "ModuleNotFoundError",
     "evalue": "No module named 'optbining'",
     "output_type": "error",
     "traceback": [
      "\u001b[1;31m---------------------------------------------------------------------------\u001b[0m",
      "\u001b[1;31mModuleNotFoundError\u001b[0m                       Traceback (most recent call last)",
      "Cell \u001b[1;32mIn[58], line 9\u001b[0m\n\u001b[0;32m      6\u001b[0m \u001b[38;5;28;01mfrom\u001b[39;00m \u001b[38;5;21;01mscipy\u001b[39;00m\u001b[38;5;21;01m.\u001b[39;00m\u001b[38;5;21;01mstats\u001b[39;00m \u001b[38;5;28;01mimport\u001b[39;00m chi2_contingency\n\u001b[0;32m      7\u001b[0m \u001b[38;5;28;01mfrom\u001b[39;00m \u001b[38;5;21;01mscipy\u001b[39;00m\u001b[38;5;21;01m.\u001b[39;00m\u001b[38;5;21;01mstats\u001b[39;00m \u001b[38;5;28;01mimport\u001b[39;00m f_oneway\n\u001b[1;32m----> 9\u001b[0m \u001b[38;5;28;01mfrom\u001b[39;00m \u001b[38;5;21;01moptbining\u001b[39;00m \u001b[38;5;28;01mimport\u001b[39;00m Scorecard, BinningProcess, OptimalBinning\n\u001b[0;32m     10\u001b[0m \u001b[38;5;28;01mfrom\u001b[39;00m \u001b[38;5;21;01moptbinning\u001b[39;00m\u001b[38;5;21;01m.\u001b[39;00m\u001b[38;5;21;01mscorecard\u001b[39;00m \u001b[38;5;28;01mimport\u001b[39;00m plot_auc_roc, plot_cap, plot_ks,ScorecardMonitoring\n\u001b[0;32m     12\u001b[0m \u001b[38;5;28;01mimport\u001b[39;00m \u001b[38;5;21;01msklearn\u001b[39;00m\n",
      "\u001b[1;31mModuleNotFoundError\u001b[0m: No module named 'optbining'"
     ]
    }
   ],
   "source": [
    "import numpy as np\n",
    "import pandas as pd\n",
    "import matplotlib.pyplot as plt\n",
    "import seaborn as sns\n",
    "\n",
    "from scipy.stats import chi2_contingency\n",
    "from scipy.stats import f_oneway\n",
    "\n",
    "from optbining import Scorecard, BinningProcess, OptimalBinning\n",
    "from optbinning.scorecard import plot_auc_roc, plot_cap, plot_ks,ScorecardMonitoring\n",
    "\n",
    "import sklearn\n",
    "from sklearn.model_selection import train_test_split\n",
    "from sklearn.linear_model import LogisticRegression\n",
    "from sklearn.metrics import f1_score\n",
    "from sklearn.metrics import balanced_accuracy_score\n",
    "\n"
   ]
  },
  {
   "cell_type": "code",
   "execution_count": 53,
   "metadata": {},
   "outputs": [],
   "source": [
    "df = pd.read_excel(\"DatosPractica_Scoring.xlsx\")\n",
    "#df.drop(columns=\"ID\", inplace=True)\n",
    "\n",
    "predecir = df.iloc[1285:]\n",
    "df = df[:1285]\n",
    "\n",
    "y = df[[\"Cardhldr\", \"default\"]]\n",
    "todas_las_columnas = list(df.columns)\n",
    "\n",
    "for i in [\"Cardhldr\", \"default\"]:\n",
    "    todas_las_columnas.remove(i)\n",
    "\n",
    "\n",
    "df = df[todas_las_columnas]"
   ]
  },
  {
   "cell_type": "code",
   "execution_count": 54,
   "metadata": {},
   "outputs": [],
   "source": [
    "#df = pd.concat([df,pd.DataFrame([[0,0,0,0,0,np.nan,0,0,0,0,0]], columns=df.columns)])"
   ]
  },
  {
   "cell_type": "code",
   "execution_count": 55,
   "metadata": {},
   "outputs": [
    {
     "data": {
      "text/plain": [
       "ID            int64\n",
       "Age         float64\n",
       "Income      float64\n",
       "Exp_Inc     float64\n",
       "Avgexp      float64\n",
       "Ownrent       int64\n",
       "Selfempl      int64\n",
       "Depndt        int64\n",
       "Inc_per     float64\n",
       "Cur_add       int64\n",
       "Major         int64\n",
       "Active        int64\n",
       "dtype: object"
      ]
     },
     "execution_count": 55,
     "metadata": {},
     "output_type": "execute_result"
    }
   ],
   "source": [
    "df.dtypes"
   ]
  },
  {
   "cell_type": "code",
   "execution_count": 64,
   "metadata": {},
   "outputs": [
    {
     "data": {
      "text/plain": [
       "0       0.0\n",
       "1       1.0\n",
       "3       0.0\n",
       "4       0.0\n",
       "6       1.0\n",
       "       ... \n",
       "1278    0.0\n",
       "1280    0.0\n",
       "1282    0.0\n",
       "1283    0.0\n",
       "1284    1.0\n",
       "Name: default, Length: 994, dtype: float64"
      ]
     },
     "execution_count": 64,
     "metadata": {},
     "output_type": "execute_result"
    }
   ],
   "source": [
    "aceptados = df[y[\"Cardhldr\"]>0.7]\n",
    "denegados = df[y[\"Cardhldr\"]<=0.7]\n",
    "y_aceptados = y[y[\"Cardhldr\"]>0.7][\"default\"]\n",
    "y_aceptados"
   ]
  },
  {
   "cell_type": "code",
   "execution_count": 56,
   "metadata": {},
   "outputs": [],
   "source": [
    "def buscar_nan(df):\n",
    "    return df[df.isna().any(axis=1)]\n",
    "\n"
   ]
  },
  {
   "cell_type": "code",
   "execution_count": 59,
   "metadata": {},
   "outputs": [],
   "source": [
    "def atipicos_rango_intercuartilico(df, variable):\n",
    "    Q1 = df[variable].quantile(0.25)\n",
    "    Q3 = df[variable].quantile(0.75)\n",
    "\n",
    "    IQR = Q3 - Q1\n",
    "\n",
    "    lower_bound = Q1 - 1.5*IQR\n",
    "    upper_bound = Q3 + 1.5*IQR\n",
    "\n",
    "    df = df[(df[variable]<lower_bound) | (df[variable]>upper_bound)]\n",
    "    return df\n",
    "\n",
    "\n",
    "\n",
    "def df_join(funcion, df):\n",
    "    todas_las_columnas = list(df.columns)\n",
    "    df_atipicos_inter = pd.DataFrame()\n",
    "    for variable in todas_las_columnas:\n",
    "        df_atipicios = funcion(df, variable)\n",
    "        print(df_atipicios.to_string())\n",
    "        df_atipicos_inter = pd.concat([df_atipicos_inter, df_atipicios])\n",
    "        print(variable)\n",
    "\n",
    "    return df_atipicos_inter\n",
    "\n",
    "\n"
   ]
  },
  {
   "cell_type": "markdown",
   "metadata": {},
   "source": [
    "## Primera etapa: Construccion del modelo solo con los Aceptados"
   ]
  },
  {
   "cell_type": "code",
   "execution_count": 65,
   "metadata": {},
   "outputs": [
    {
     "data": {
      "text/plain": [
       "default\n",
       "0.0    890\n",
       "1.0    104\n",
       "Name: count, dtype: int64"
      ]
     },
     "execution_count": 65,
     "metadata": {},
     "output_type": "execute_result"
    }
   ],
   "source": [
    "y_aceptados.value_counts()"
   ]
  },
  {
   "cell_type": "code",
   "execution_count": 66,
   "metadata": {},
   "outputs": [
    {
     "data": {
      "text/plain": [
       "default\n",
       "0.0    0.895372\n",
       "1.0    0.104628\n",
       "Name: proportion, dtype: float64"
      ]
     },
     "execution_count": 66,
     "metadata": {},
     "output_type": "execute_result"
    }
   ],
   "source": [
    "y_aceptados.value_counts(normalize=True)"
   ]
  },
  {
   "cell_type": "code",
   "execution_count": 67,
   "metadata": {},
   "outputs": [],
   "source": [
    "yT_0 = y_aceptados.value_counts(normalize=True)[0]\n",
    "yT_1 = y_aceptados.value_counts(normalize=True)[1]"
   ]
  },
  {
   "cell_type": "code",
   "execution_count": 69,
   "metadata": {},
   "outputs": [
    {
     "data": {
      "text/html": [
       "<div>\n",
       "<style scoped>\n",
       "    .dataframe tbody tr th:only-of-type {\n",
       "        vertical-align: middle;\n",
       "    }\n",
       "\n",
       "    .dataframe tbody tr th {\n",
       "        vertical-align: top;\n",
       "    }\n",
       "\n",
       "    .dataframe thead th {\n",
       "        text-align: right;\n",
       "    }\n",
       "</style>\n",
       "<table border=\"1\" class=\"dataframe\">\n",
       "  <thead>\n",
       "    <tr style=\"text-align: right;\">\n",
       "      <th></th>\n",
       "      <th>ID</th>\n",
       "      <th>Age</th>\n",
       "      <th>Income</th>\n",
       "      <th>Exp_Inc</th>\n",
       "      <th>Avgexp</th>\n",
       "      <th>Ownrent</th>\n",
       "      <th>Selfempl</th>\n",
       "      <th>Depndt</th>\n",
       "      <th>Inc_per</th>\n",
       "      <th>Cur_add</th>\n",
       "      <th>Major</th>\n",
       "      <th>Active</th>\n",
       "    </tr>\n",
       "  </thead>\n",
       "  <tbody>\n",
       "    <tr>\n",
       "      <th>count</th>\n",
       "      <td>994.000000</td>\n",
       "      <td>994.000000</td>\n",
       "      <td>994.000000</td>\n",
       "      <td>994.000000</td>\n",
       "      <td>994.000000</td>\n",
       "      <td>994.000000</td>\n",
       "      <td>994.000000</td>\n",
       "      <td>994.000000</td>\n",
       "      <td>994.000000</td>\n",
       "      <td>994.000000</td>\n",
       "      <td>994.000000</td>\n",
       "      <td>994.000000</td>\n",
       "    </tr>\n",
       "    <tr>\n",
       "      <th>mean</th>\n",
       "      <td>643.062374</td>\n",
       "      <td>33.188715</td>\n",
       "      <td>3.447242</td>\n",
       "      <td>0.089110</td>\n",
       "      <td>239.612725</td>\n",
       "      <td>0.479879</td>\n",
       "      <td>0.061368</td>\n",
       "      <td>0.973843</td>\n",
       "      <td>2.214605</td>\n",
       "      <td>54.691147</td>\n",
       "      <td>0.841046</td>\n",
       "      <td>7.265594</td>\n",
       "    </tr>\n",
       "    <tr>\n",
       "      <th>std</th>\n",
       "      <td>366.554739</td>\n",
       "      <td>10.180138</td>\n",
       "      <td>1.716888</td>\n",
       "      <td>0.099877</td>\n",
       "      <td>289.158901</td>\n",
       "      <td>0.499846</td>\n",
       "      <td>0.240125</td>\n",
       "      <td>1.250708</td>\n",
       "      <td>1.355279</td>\n",
       "      <td>64.671143</td>\n",
       "      <td>0.365817</td>\n",
       "      <td>6.074552</td>\n",
       "    </tr>\n",
       "    <tr>\n",
       "      <th>min</th>\n",
       "      <td>1.000000</td>\n",
       "      <td>0.166667</td>\n",
       "      <td>0.210000</td>\n",
       "      <td>0.000186</td>\n",
       "      <td>0.000000</td>\n",
       "      <td>0.000000</td>\n",
       "      <td>0.000000</td>\n",
       "      <td>0.000000</td>\n",
       "      <td>0.070000</td>\n",
       "      <td>0.000000</td>\n",
       "      <td>0.000000</td>\n",
       "      <td>0.000000</td>\n",
       "    </tr>\n",
       "    <tr>\n",
       "      <th>25%</th>\n",
       "      <td>332.250000</td>\n",
       "      <td>25.333330</td>\n",
       "      <td>2.313625</td>\n",
       "      <td>0.026912</td>\n",
       "      <td>66.823750</td>\n",
       "      <td>0.000000</td>\n",
       "      <td>0.000000</td>\n",
       "      <td>0.000000</td>\n",
       "      <td>1.250000</td>\n",
       "      <td>12.000000</td>\n",
       "      <td>1.000000</td>\n",
       "      <td>2.000000</td>\n",
       "    </tr>\n",
       "    <tr>\n",
       "      <th>50%</th>\n",
       "      <td>646.500000</td>\n",
       "      <td>31.000000</td>\n",
       "      <td>3.000000</td>\n",
       "      <td>0.060319</td>\n",
       "      <td>150.540850</td>\n",
       "      <td>0.000000</td>\n",
       "      <td>0.000000</td>\n",
       "      <td>0.000000</td>\n",
       "      <td>1.970667</td>\n",
       "      <td>28.000000</td>\n",
       "      <td>1.000000</td>\n",
       "      <td>6.000000</td>\n",
       "    </tr>\n",
       "    <tr>\n",
       "      <th>75%</th>\n",
       "      <td>957.750000</td>\n",
       "      <td>39.729168</td>\n",
       "      <td>4.000000</td>\n",
       "      <td>0.114712</td>\n",
       "      <td>315.023975</td>\n",
       "      <td>1.000000</td>\n",
       "      <td>0.000000</td>\n",
       "      <td>2.000000</td>\n",
       "      <td>2.797500</td>\n",
       "      <td>72.000000</td>\n",
       "      <td>1.000000</td>\n",
       "      <td>11.000000</td>\n",
       "    </tr>\n",
       "    <tr>\n",
       "      <th>max</th>\n",
       "      <td>1285.000000</td>\n",
       "      <td>83.500000</td>\n",
       "      <td>13.500000</td>\n",
       "      <td>0.906320</td>\n",
       "      <td>3099.505000</td>\n",
       "      <td>1.000000</td>\n",
       "      <td>1.000000</td>\n",
       "      <td>6.000000</td>\n",
       "      <td>10.999900</td>\n",
       "      <td>540.000000</td>\n",
       "      <td>1.000000</td>\n",
       "      <td>31.000000</td>\n",
       "    </tr>\n",
       "  </tbody>\n",
       "</table>\n",
       "</div>"
      ],
      "text/plain": [
       "                ID         Age      Income     Exp_Inc       Avgexp  \\\n",
       "count   994.000000  994.000000  994.000000  994.000000   994.000000   \n",
       "mean    643.062374   33.188715    3.447242    0.089110   239.612725   \n",
       "std     366.554739   10.180138    1.716888    0.099877   289.158901   \n",
       "min       1.000000    0.166667    0.210000    0.000186     0.000000   \n",
       "25%     332.250000   25.333330    2.313625    0.026912    66.823750   \n",
       "50%     646.500000   31.000000    3.000000    0.060319   150.540850   \n",
       "75%     957.750000   39.729168    4.000000    0.114712   315.023975   \n",
       "max    1285.000000   83.500000   13.500000    0.906320  3099.505000   \n",
       "\n",
       "          Ownrent    Selfempl      Depndt     Inc_per     Cur_add       Major  \\\n",
       "count  994.000000  994.000000  994.000000  994.000000  994.000000  994.000000   \n",
       "mean     0.479879    0.061368    0.973843    2.214605   54.691147    0.841046   \n",
       "std      0.499846    0.240125    1.250708    1.355279   64.671143    0.365817   \n",
       "min      0.000000    0.000000    0.000000    0.070000    0.000000    0.000000   \n",
       "25%      0.000000    0.000000    0.000000    1.250000   12.000000    1.000000   \n",
       "50%      0.000000    0.000000    0.000000    1.970667   28.000000    1.000000   \n",
       "75%      1.000000    0.000000    2.000000    2.797500   72.000000    1.000000   \n",
       "max      1.000000    1.000000    6.000000   10.999900  540.000000    1.000000   \n",
       "\n",
       "           Active  \n",
       "count  994.000000  \n",
       "mean     7.265594  \n",
       "std      6.074552  \n",
       "min      0.000000  \n",
       "25%      2.000000  \n",
       "50%      6.000000  \n",
       "75%     11.000000  \n",
       "max     31.000000  "
      ]
     },
     "execution_count": 69,
     "metadata": {},
     "output_type": "execute_result"
    }
   ],
   "source": [
    "aceptados.describe()"
   ]
  },
  {
   "cell_type": "markdown",
   "metadata": {},
   "source": [
    "### Variables discretas"
   ]
  },
  {
   "cell_type": "code",
   "execution_count": null,
   "metadata": {},
   "outputs": [],
   "source": [
    "aceptados[\"Ownrent\"].value_counts(normalize=True, dropna=False).sort_index()"
   ]
  },
  {
   "cell_type": "code",
   "execution_count": null,
   "metadata": {},
   "outputs": [],
   "source": [
    "ctabla = pd.crosstab(aceptados[\"Ownrent\"], y_aceptados, margins=True).round(3)\n",
    "ctabla"
   ]
  },
  {
   "cell_type": "code",
   "execution_count": null,
   "metadata": {},
   "outputs": [],
   "source": [
    "c, p, dof, expected = chi2_contingency(ctabla)\n",
    "print(p)"
   ]
  },
  {
   "cell_type": "code",
   "execution_count": null,
   "metadata": {},
   "outputs": [],
   "source": [
    "pd.crosstab(aceptados[\"Ownrent\"], y_aceptados, margins=True, normalize=True).round(3).plot(figsize=(15,5))\n",
    "plt.axhline(y=yT_0, color='#1f77b4', linestyle='--')\n",
    "plt.axhline(y=yT_1, color='#ff7f0e', linestyle='--')\n",
    "plt.show()"
   ]
  },
  {
   "cell_type": "code",
   "execution_count": null,
   "metadata": {},
   "outputs": [],
   "source": [
    "def valoracion_variables_discretas(df, y, variable):\n",
    "    ctabla = pd.crosstab(df[variable], y, margins=True).round(3)\n",
    "    c, p, dof, expected = chi2_contingency(ctabla)\n",
    "    print(f\"pvalue: {p} de la variable {variable}\")\n",
    "    ctabla.plot(figsize=(15,5))\n",
    "    plt.axhline(y=yT_0, color='#1f77b4', linestyle='--')\n",
    "    plt.axhline(y=yT_1, color='#ff7f0e', linestyle='--')\n",
    "    plt.show()\n",
    "\n",
    "\n",
    "valoracion_variables_discretas(aceptados, y_aceptados, \"Ownrent\")"
   ]
  },
  {
   "cell_type": "markdown",
   "metadata": {},
   "source": [
    "### Variables continuas"
   ]
  },
  {
   "cell_type": "code",
   "execution_count": null,
   "metadata": {},
   "outputs": [],
   "source": [
    "def valoracion_variables_continuas(df, variable):    \n",
    "    sns.displot(x=(df[variable]), kind=\"kde\", fill=True)\n",
    "    plt.show()\n",
    "    sns.displot(x=np.log(df[variable]), kind=\"kde\", fill=True)\n",
    "    plt.show()"
   ]
  },
  {
   "cell_type": "code",
   "execution_count": null,
   "metadata": {},
   "outputs": [],
   "source": [
    "def pvalue_continuas(df, variable):\n",
    "    fvalue, pvalue = f_oneway(aceptados.loc[y_aceptados==0,[variable]], aceptados.loc[y_aceptados==1,[variable]])\n",
    "    print(f\"para la variable {variable}: \", fvalue, pvalue)"
   ]
  },
  {
   "cell_type": "markdown",
   "metadata": {},
   "source": [
    "## Selección de variables\n",
    "### Dividimos la muestra en entrenamiento y test"
   ]
  },
  {
   "cell_type": "code",
   "execution_count": null,
   "metadata": {},
   "outputs": [],
   "source": [
    "dt_train, dt_test = train_test_split(aceptados,stratify=y_aceptados, test_size=.25, random_state=321)"
   ]
  },
  {
   "cell_type": "code",
   "execution_count": null,
   "metadata": {},
   "outputs": [],
   "source": [
    "dt_train[\"y\"].shape"
   ]
  },
  {
   "cell_type": "code",
   "execution_count": null,
   "metadata": {},
   "outputs": [],
   "source": [
    "dt_train[\"y\"].mean()"
   ]
  },
  {
   "cell_type": "code",
   "execution_count": null,
   "metadata": {},
   "outputs": [],
   "source": [
    "dt_test[\"y\"].shape"
   ]
  },
  {
   "cell_type": "code",
   "execution_count": null,
   "metadata": {},
   "outputs": [],
   "source": [
    "dt_test[\"y\"].mean()"
   ]
  },
  {
   "cell_type": "markdown",
   "metadata": {},
   "source": [
    "### Variables numericas\n",
    "#### Defino la tramificacion optima"
   ]
  },
  {
   "cell_type": "code",
   "execution_count": null,
   "metadata": {},
   "outputs": [],
   "source": [
    "variable = variable\n",
    "X=dt_train[variable].values\n",
    "Y=dt_train['y'].values"
   ]
  },
  {
   "cell_type": "code",
   "execution_count": null,
   "metadata": {},
   "outputs": [],
   "source": [
    "optb = OptimalBinning(name=variable, dtype=\"numerical\", solver=\"cp\")\n",
    "\n",
    "# Si se quisiese fijar los intervalos manualmente (porque no gusten los que obtine el agoritmo, entonces habría que usar:\n",
    "#                     user_splits=\n",
    "#                     user_splits_fixed=\n",
    "# HAy veces que los datos tienen dátos missing y códigos especiales en este caso para obtener una categoría con esos datos missing y datos especiales hay que establecerlos\n",
    "#                     special_codes = [-9, -8, -7]\n",
    "\n",
    "# Una vez definido podemos pasar a estimarlo\n",
    "optb.fit(X, Y)\n",
    "optb.splits"
   ]
  },
  {
   "cell_type": "code",
   "execution_count": null,
   "metadata": {},
   "outputs": [],
   "source": [
    "binning_table = optb.binning_table\n",
    "binning_table.build()"
   ]
  },
  {
   "cell_type": "code",
   "execution_count": null,
   "metadata": {},
   "outputs": [],
   "source": [
    "print(\"IV= \", binning_table.iv.round(3))\n",
    "print(\"Gini= \", binning_table.gini.round(3))\n",
    "\n",
    "# La última columna muestra el estadístico Jensen-Shannon de divergencia.\n",
    "# Es una medida de la similaridad entre dos distribuciones de probabilidad (frecuencias de buenos y malos )\n",
    "# que está acotada entre 0 y log2 (aprox 0.70) (puede utilizarse 0.01 como mínimo) \n",
    "print(\"JS= \", binning_table.js.round(3))\n"
   ]
  },
  {
   "cell_type": "markdown",
   "metadata": {},
   "source": [
    "#### Transformacion WoE"
   ]
  },
  {
   "cell_type": "code",
   "execution_count": null,
   "metadata": {},
   "outputs": [],
   "source": [
    "# Transformación WOE\n",
    "x_woe = optb.transform(X, metric=\"woe\")\n",
    "pd.Series(x_woe).value_counts().sort_index()"
   ]
  },
  {
   "cell_type": "code",
   "execution_count": null,
   "metadata": {},
   "outputs": [],
   "source": [
    "pd.crosstab(x_woe,Y,normalize=0).round(3)"
   ]
  },
  {
   "cell_type": "code",
   "execution_count": null,
   "metadata": {},
   "outputs": [],
   "source": [
    "fig, ax = plt.subplots()\n",
    "ax.plot(pd.crosstab(x_woe,Y,normalize=0).iloc[:,1])\n",
    "ax.set_xlabel(\"x_woe\")\n",
    "ax.set_ylabel(\"porcentaje de impago\")"
   ]
  },
  {
   "cell_type": "code",
   "execution_count": null,
   "metadata": {},
   "outputs": [],
   "source": [
    "# Transformación WOE en el conjunto test\n",
    "x_test_woe = optb.transform(dt_test[variable].values, metric=\"woe\")\n",
    "pd.Series(x_test_woe).value_counts().sort_index()"
   ]
  },
  {
   "cell_type": "markdown",
   "metadata": {},
   "source": [
    "### Variables categoricas\n",
    "#### Agrupacion de variables categoricas"
   ]
  },
  {
   "cell_type": "code",
   "execution_count": null,
   "metadata": {},
   "outputs": [],
   "source": [
    "variable_cat = \"purpose\"\n",
    "X_cat = dt_train[variable_cat].values\n",
    "Y_cat = dt_train['y'].values\n",
    "\n",
    "dt_train[variable_cat].value_counts()"
   ]
  },
  {
   "cell_type": "code",
   "execution_count": null,
   "metadata": {},
   "outputs": [],
   "source": [
    "optb = OptimalBinning(name=variable_cat, dtype=\"categorical\", solver=\"cp\",\n",
    "                      cat_cutoff=0.1)  # podemos cambiar los valores por defecto cat_cutoff=None, o, cat_cutoff=0.005\n",
    "\n",
    "optb.fit(X_cat, Y_cat)\n",
    "optb.splits"
   ]
  },
  {
   "cell_type": "code",
   "execution_count": null,
   "metadata": {},
   "outputs": [],
   "source": [
    "binning_table = optb.binning_table\n",
    "binning_table.build()"
   ]
  },
  {
   "cell_type": "code",
   "execution_count": null,
   "metadata": {},
   "outputs": [],
   "source": [
    "binning_table.plot(metric=\"event_rate\")"
   ]
  },
  {
   "cell_type": "code",
   "execution_count": null,
   "metadata": {},
   "outputs": [],
   "source": [
    "x_woe = optb.transform(X_cat, metric=\"woe\")\n",
    "pd.Series(x_woe).value_counts()"
   ]
  }
 ],
 "metadata": {
  "kernelspec": {
   "display_name": "Python 3",
   "language": "python",
   "name": "python3"
  },
  "language_info": {
   "codemirror_mode": {
    "name": "ipython",
    "version": 3
   },
   "file_extension": ".py",
   "mimetype": "text/x-python",
   "name": "python",
   "nbconvert_exporter": "python",
   "pygments_lexer": "ipython3",
   "version": "3.12.2"
  }
 },
 "nbformat": 4,
 "nbformat_minor": 2
}
