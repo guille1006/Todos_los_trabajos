{
 "cells": [
  {
   "cell_type": "code",
   "execution_count": 1,
   "metadata": {},
   "outputs": [
    {
     "name": "stderr",
     "output_type": "stream",
     "text": [
      "c:\\Users\\Usuario\\AppData\\Local\\Programs\\Python\\Python312\\Lib\\site-packages\\spaghetti\\network.py:41: FutureWarning: The next major release of pysal/spaghetti (2.0.0) will drop support for all ``libpysal.cg`` geometries. This change is a first step in refactoring ``spaghetti`` that is expected to result in dramatically reduced runtimes for network instantiation and operations. Users currently requiring network and point pattern input as ``libpysal.cg`` geometries should prepare for this simply by converting to ``shapely`` geometries.\n",
      "  warnings.warn(dep_msg, FutureWarning, stacklevel=1)\n",
      "C:\\Users\\Usuario\\AppData\\Local\\Temp\\ipykernel_16380\\1379473058.py:12: FutureWarning: `use_index` defaults to False but will default to True in future. Set True/False directly to control this behavior and silence this warning\n",
      "  wq = weights.contiguity.Queen.from_dataframe(gdfm)\n",
      "c:\\Users\\Usuario\\AppData\\Local\\Programs\\Python\\Python312\\Lib\\site-packages\\libpysal\\weights\\contiguity.py:347: UserWarning: The weights matrix is not fully connected: \n",
      " There are 19 disconnected components.\n",
      " There are 8 islands with ids: 816, 2536, 5326, 7061, 7160, 7229, 8106, 8107.\n",
      "  W.__init__(self, neighbors, ids=ids, **kw)\n"
     ]
    },
    {
     "name": "stdout",
     "output_type": "stream",
     "text": [
      "('WARNING: ', 816, ' is an island (no neighbors)')\n",
      "('WARNING: ', 2536, ' is an island (no neighbors)')\n",
      "('WARNING: ', 5326, ' is an island (no neighbors)')\n",
      "('WARNING: ', 7061, ' is an island (no neighbors)')\n",
      "('WARNING: ', 7160, ' is an island (no neighbors)')\n",
      "('WARNING: ', 7229, ' is an island (no neighbors)')\n",
      "('WARNING: ', 8106, ' is an island (no neighbors)')\n",
      "('WARNING: ', 8107, ' is an island (no neighbors)')\n",
      "I de Moran (Modelo A): 0.581\n",
      "p-valor: 0.001\n",
      "I de Moran (Modelo B): -0.066\n",
      "p-valor: 0.001\n"
     ]
    }
   ],
   "source": [
    "import geopandas as gpd\n",
    "import matplotlib.pyplot as plt\n",
    "import seaborn as sns\n",
    "from pysal.lib import weights\n",
    "from pysal.explore import esda\n",
    "from pysal.model import spreg\n",
    "\n",
    "# Cargar el archivo shapefile\n",
    "gdfm = gpd.read_file(\"2_Espacial/CartografiasDatos_Python/cartografias/Munic04_ESP.shp\")\n",
    "\n",
    "# Crear matriz de pesos espaciales con la regla de la Reina\n",
    "wq = weights.contiguity.Queen.from_dataframe(gdfm)\n",
    "wq.transform = \"R\"\n",
    "\n",
    "# MODELO (A): Regresión OLS\n",
    "modelo_A = spreg.OLS(\n",
    "    gdfm[[\"TASA_PARO\"]].values,  # Variable dependiente\n",
    "    gdfm[[\"RENTPCAP07\"]].values,  # Variable independiente\n",
    "    name_y=\"TASA_PARO\",  # Nombre de la variable dependiente\n",
    "    name_x=[\"RENTA_PERCAPITA\"]  # Nombre de la variable independiente\n",
    ")\n",
    "\n",
    "# Guardar los residuos en el DataFrame\n",
    "gdfm[\"residual\"] = modelo_A.u\n",
    "\n",
    "# Calcular el Índice de Moran sobre los residuos\n",
    "moran = esda.moran.Moran(gdfm[\"residual\"], wq)\n",
    "print(\"I de Moran (Modelo A):\", moran.I.round(3))\n",
    "print(\"p-valor:\", moran.p_sim)\n",
    "\n",
    "# MODELO (B): Modelo espacial de errores heterocedásticos\n",
    "modelo_B = spreg.GM_Error_Het(\n",
    "    gdfm[[\"TASA_PARO\"]].values,  # Variable dependiente\n",
    "    gdfm[[\"RENTPCAP07\"]].values,  # Variable independiente\n",
    "    w=wq,  # Matriz de pesos espaciales\n",
    "    name_y=\"TASA_PARO\",  # Nombre de la variable dependiente\n",
    "    name_x=[\"RENTA_PERCAPITA\"]  # Nombre de la variable independiente\n",
    ")\n",
    "\n",
    "# Guardar los residuos filtrados en el DataFrame\n",
    "gdfm[\"mLagresidual\"] = modelo_B.e_filtered\n",
    "\n",
    "# Calcular el Índice de Moran sobre los residuos filtrados\n",
    "moran = esda.moran.Moran(gdfm[\"mLagresidual\"], wq)\n",
    "print(\"I de Moran (Modelo B):\", moran.I.round(3))\n",
    "print(\"p-valor:\", moran.p_sim)"
   ]
  }
 ],
 "metadata": {
  "kernelspec": {
   "display_name": "Python 3",
   "language": "python",
   "name": "python3"
  },
  "language_info": {
   "codemirror_mode": {
    "name": "ipython",
    "version": 3
   },
   "file_extension": ".py",
   "mimetype": "text/x-python",
   "name": "python",
   "nbconvert_exporter": "python",
   "pygments_lexer": "ipython3",
   "version": "3.12.2"
  }
 },
 "nbformat": 4,
 "nbformat_minor": 2
}
